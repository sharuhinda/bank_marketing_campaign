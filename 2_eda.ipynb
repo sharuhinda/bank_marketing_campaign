{
 "cells": [
  {
   "attachments": {},
   "cell_type": "markdown",
   "metadata": {},
   "source": [
    "# EDA"
   ]
  },
  {
   "attachments": {},
   "cell_type": "markdown",
   "metadata": {},
   "source": [
    "Group Name: Data Evolve  \n",
    "Name: Dmitry Sharukhin  \n",
    "Email: sharuhinda@gmail.com  \n",
    "Country: Russia  \n",
    "College/Company: Finval GC  \n",
    "Specialization: Data Science  "
   ]
  },
  {
   "cell_type": "code",
   "execution_count": 1,
   "metadata": {},
   "outputs": [
    {
     "name": "stdout",
     "output_type": "stream",
     "text": [
      "Numpy version: 1.23.5\n",
      "Pandas version: 1.5.2\n",
      "Matplotlib version: 3.6.2\n",
      "Seaborn version: 0.12.1\n",
      "Scipy version: 1.9.3\n",
      "Statsmodels version: 0.13.5\n"
     ]
    }
   ],
   "source": [
    "import numpy as np\n",
    "print('Numpy version:', np.__version__)\n",
    "\n",
    "import pandas as pd\n",
    "print('Pandas version:', pd.__version__)\n",
    "\n",
    "import matplotlib as mpl\n",
    "print('Matplotlib version:', mpl.__version__)\n",
    "import matplotlib.pyplot as plt\n",
    "\n",
    "import seaborn as sns\n",
    "print('Seaborn version:', sns.__version__)\n",
    "\n",
    "from pandas_profiling import ProfileReport\n",
    "\n",
    "import scipy\n",
    "print('Scipy version:', scipy.__version__)\n",
    "\n",
    "import statsmodels as sm\n",
    "print('Statsmodels version:', sm.__version__)\n",
    "\n",
    "import phik\n",
    "from phik.report import plot_correlation_matrix\n",
    "\n",
    "from sklearn.impute import SimpleImputer, KNNImputer"
   ]
  },
  {
   "cell_type": "code",
   "execution_count": 2,
   "metadata": {},
   "outputs": [],
   "source": [
    "# SETTINGS\n",
    "#pd.set_option('display.max_columns', None)\n",
    "sns.set_palette('Blues_r')"
   ]
  },
  {
   "cell_type": "code",
   "execution_count": 3,
   "metadata": {},
   "outputs": [],
   "source": [
    "%matplotlib inline"
   ]
  },
  {
   "cell_type": "code",
   "execution_count": 4,
   "metadata": {},
   "outputs": [
    {
     "data": {
      "text/html": [
       "<div>\n",
       "<style scoped>\n",
       "    .dataframe tbody tr th:only-of-type {\n",
       "        vertical-align: middle;\n",
       "    }\n",
       "\n",
       "    .dataframe tbody tr th {\n",
       "        vertical-align: top;\n",
       "    }\n",
       "\n",
       "    .dataframe thead th {\n",
       "        text-align: right;\n",
       "    }\n",
       "</style>\n",
       "<table border=\"1\" class=\"dataframe\">\n",
       "  <thead>\n",
       "    <tr style=\"text-align: right;\">\n",
       "      <th></th>\n",
       "      <th>age</th>\n",
       "      <th>job</th>\n",
       "      <th>marital</th>\n",
       "      <th>education</th>\n",
       "      <th>default</th>\n",
       "      <th>housing</th>\n",
       "      <th>loan</th>\n",
       "      <th>contact</th>\n",
       "      <th>month</th>\n",
       "      <th>day_of_week</th>\n",
       "      <th>...</th>\n",
       "      <th>campaign</th>\n",
       "      <th>pdays</th>\n",
       "      <th>previous</th>\n",
       "      <th>poutcome</th>\n",
       "      <th>emp.var.rate</th>\n",
       "      <th>cons.price.idx</th>\n",
       "      <th>cons.conf.idx</th>\n",
       "      <th>euribor3m</th>\n",
       "      <th>nr.employed</th>\n",
       "      <th>y</th>\n",
       "    </tr>\n",
       "  </thead>\n",
       "  <tbody>\n",
       "    <tr>\n",
       "      <th>0</th>\n",
       "      <td>50</td>\n",
       "      <td>blue-collar</td>\n",
       "      <td>single</td>\n",
       "      <td>basic.4y</td>\n",
       "      <td>no</td>\n",
       "      <td>no</td>\n",
       "      <td>no</td>\n",
       "      <td>telephone</td>\n",
       "      <td>may</td>\n",
       "      <td>thu</td>\n",
       "      <td>...</td>\n",
       "      <td>2</td>\n",
       "      <td>999</td>\n",
       "      <td>0</td>\n",
       "      <td>nonexistent</td>\n",
       "      <td>1.1</td>\n",
       "      <td>93.994</td>\n",
       "      <td>-36.4</td>\n",
       "      <td>4.860</td>\n",
       "      <td>5191.0</td>\n",
       "      <td>no</td>\n",
       "    </tr>\n",
       "    <tr>\n",
       "      <th>1</th>\n",
       "      <td>51</td>\n",
       "      <td>services</td>\n",
       "      <td>married</td>\n",
       "      <td>professional.course</td>\n",
       "      <td>unknown</td>\n",
       "      <td>no</td>\n",
       "      <td>no</td>\n",
       "      <td>telephone</td>\n",
       "      <td>may</td>\n",
       "      <td>mon</td>\n",
       "      <td>...</td>\n",
       "      <td>5</td>\n",
       "      <td>999</td>\n",
       "      <td>0</td>\n",
       "      <td>nonexistent</td>\n",
       "      <td>1.1</td>\n",
       "      <td>93.994</td>\n",
       "      <td>-36.4</td>\n",
       "      <td>4.858</td>\n",
       "      <td>5191.0</td>\n",
       "      <td>no</td>\n",
       "    </tr>\n",
       "    <tr>\n",
       "      <th>2</th>\n",
       "      <td>46</td>\n",
       "      <td>technician</td>\n",
       "      <td>divorced</td>\n",
       "      <td>professional.course</td>\n",
       "      <td>no</td>\n",
       "      <td>yes</td>\n",
       "      <td>no</td>\n",
       "      <td>cellular</td>\n",
       "      <td>may</td>\n",
       "      <td>mon</td>\n",
       "      <td>...</td>\n",
       "      <td>2</td>\n",
       "      <td>999</td>\n",
       "      <td>0</td>\n",
       "      <td>nonexistent</td>\n",
       "      <td>-1.8</td>\n",
       "      <td>92.893</td>\n",
       "      <td>-46.2</td>\n",
       "      <td>1.244</td>\n",
       "      <td>5099.1</td>\n",
       "      <td>no</td>\n",
       "    </tr>\n",
       "    <tr>\n",
       "      <th>3</th>\n",
       "      <td>46</td>\n",
       "      <td>admin.</td>\n",
       "      <td>single</td>\n",
       "      <td>university.degree</td>\n",
       "      <td>no</td>\n",
       "      <td>yes</td>\n",
       "      <td>no</td>\n",
       "      <td>telephone</td>\n",
       "      <td>jun</td>\n",
       "      <td>mon</td>\n",
       "      <td>...</td>\n",
       "      <td>1</td>\n",
       "      <td>999</td>\n",
       "      <td>0</td>\n",
       "      <td>nonexistent</td>\n",
       "      <td>1.4</td>\n",
       "      <td>94.465</td>\n",
       "      <td>-41.8</td>\n",
       "      <td>4.961</td>\n",
       "      <td>5228.1</td>\n",
       "      <td>no</td>\n",
       "    </tr>\n",
       "    <tr>\n",
       "      <th>4</th>\n",
       "      <td>25</td>\n",
       "      <td>services</td>\n",
       "      <td>single</td>\n",
       "      <td>high.school</td>\n",
       "      <td>no</td>\n",
       "      <td>no</td>\n",
       "      <td>no</td>\n",
       "      <td>cellular</td>\n",
       "      <td>may</td>\n",
       "      <td>thu</td>\n",
       "      <td>...</td>\n",
       "      <td>5</td>\n",
       "      <td>999</td>\n",
       "      <td>0</td>\n",
       "      <td>nonexistent</td>\n",
       "      <td>-1.8</td>\n",
       "      <td>92.893</td>\n",
       "      <td>-46.2</td>\n",
       "      <td>1.266</td>\n",
       "      <td>5099.1</td>\n",
       "      <td>yes</td>\n",
       "    </tr>\n",
       "  </tbody>\n",
       "</table>\n",
       "<p>5 rows × 21 columns</p>\n",
       "</div>"
      ],
      "text/plain": [
       "   age          job   marital            education  default housing loan  \\\n",
       "0   50  blue-collar    single             basic.4y       no      no   no   \n",
       "1   51     services   married  professional.course  unknown      no   no   \n",
       "2   46   technician  divorced  professional.course       no     yes   no   \n",
       "3   46       admin.    single    university.degree       no     yes   no   \n",
       "4   25     services    single          high.school       no      no   no   \n",
       "\n",
       "     contact month day_of_week  ...  campaign  pdays  previous     poutcome  \\\n",
       "0  telephone   may         thu  ...         2    999         0  nonexistent   \n",
       "1  telephone   may         mon  ...         5    999         0  nonexistent   \n",
       "2   cellular   may         mon  ...         2    999         0  nonexistent   \n",
       "3  telephone   jun         mon  ...         1    999         0  nonexistent   \n",
       "4   cellular   may         thu  ...         5    999         0  nonexistent   \n",
       "\n",
       "  emp.var.rate  cons.price.idx  cons.conf.idx  euribor3m  nr.employed    y  \n",
       "0          1.1          93.994          -36.4      4.860       5191.0   no  \n",
       "1          1.1          93.994          -36.4      4.858       5191.0   no  \n",
       "2         -1.8          92.893          -46.2      1.244       5099.1   no  \n",
       "3          1.4          94.465          -41.8      4.961       5228.1   no  \n",
       "4         -1.8          92.893          -46.2      1.266       5099.1  yes  \n",
       "\n",
       "[5 rows x 21 columns]"
      ]
     },
     "execution_count": 4,
     "metadata": {},
     "output_type": "execute_result"
    }
   ],
   "source": [
    "df = pd.read_csv('datasets/bank-train.csv')\n",
    "df.head()"
   ]
  },
  {
   "cell_type": "code",
   "execution_count": 5,
   "metadata": {},
   "outputs": [
    {
     "name": "stdout",
     "output_type": "stream",
     "text": [
      "<class 'pandas.core.frame.DataFrame'>\n",
      "RangeIndex: 28831 entries, 0 to 28830\n",
      "Data columns (total 21 columns):\n",
      " #   Column          Non-Null Count  Dtype  \n",
      "---  ------          --------------  -----  \n",
      " 0   age             28831 non-null  int64  \n",
      " 1   job             28831 non-null  object \n",
      " 2   marital         28831 non-null  object \n",
      " 3   education       28831 non-null  object \n",
      " 4   default         28831 non-null  object \n",
      " 5   housing         28831 non-null  object \n",
      " 6   loan            28831 non-null  object \n",
      " 7   contact         28831 non-null  object \n",
      " 8   month           28831 non-null  object \n",
      " 9   day_of_week     28831 non-null  object \n",
      " 10  duration        28831 non-null  int64  \n",
      " 11  campaign        28831 non-null  int64  \n",
      " 12  pdays           28831 non-null  int64  \n",
      " 13  previous        28831 non-null  int64  \n",
      " 14  poutcome        28831 non-null  object \n",
      " 15  emp.var.rate    28831 non-null  float64\n",
      " 16  cons.price.idx  28831 non-null  float64\n",
      " 17  cons.conf.idx   28831 non-null  float64\n",
      " 18  euribor3m       28831 non-null  float64\n",
      " 19  nr.employed     28831 non-null  float64\n",
      " 20  y               28831 non-null  object \n",
      "dtypes: float64(5), int64(5), object(11)\n",
      "memory usage: 4.6+ MB\n"
     ]
    }
   ],
   "source": [
    "df.info()"
   ]
  },
  {
   "cell_type": "code",
   "execution_count": 6,
   "metadata": {},
   "outputs": [],
   "source": [
    "skip_profiling = True\n",
    "profile = None\n",
    "if not skip_profiling:\n",
    "    profile = ProfileReport(df, title='Preliminary EDA')\n",
    "    profile"
   ]
  },
  {
   "attachments": {},
   "cell_type": "markdown",
   "metadata": {},
   "source": [
    "Some insights and things to explore and clarify based on report above:  \n",
    "1. 7 duplicate rows - find them out and try to determine if it's error or coincidence due to depersonalization\n",
    "2. (1) in bank sphere the presence of credit in default status usually is considered as a stop-factor for banking service, (2) there are no rows with y == 'yes' AND default == 'yes', (3) among 'unknown' observations there are some with y == 'yes', but it doesn't contain any useful info for model, (4) imputing will most probably use most frequent value ('no'), so in this way `default` isn't useful for model too => feature can be dropped safely\n",
    "3. check correlations between features  \n",
    "4. `loan` and `housing` features have 707 possibly shared records with 'unknown' value\n",
    "5. `contact` feature can be one-hot encoded with 1 column (check if this feature contains useful info for model)\n",
    "6. **Assumption**: `month` contains only 10 values (Jan and Feb are absent) with modal value 'May'. According to data description observations refer to period from May 2008 to November 2010 and ARE ORDERED BY DATE => we can try to restore month-year values based on the months order (CHECK FULL DATASET (1) for Jan and Feb values, (2) if restore data then in both datasets) + we can use months after 2008 year's financial crisis as a new feature  \n",
    "**Conclusion**: (1) the whole dataset doesn't have 'jan' and 'feb' values, (2) `months_since_2018` will not be useful for prediction as all new instances are guaranteed to be further in time (extrapolation task). In case of interpolation task this feature could be useful\n",
    "7. `day_of_week` feature have almost equal distribution and can be dropped  (if useless will be proved)\n",
    "8. `campaign` feature should be cutted based on 1.5*IQR (calculate threshold value)\n",
    "9. Explore `pdays`, `previous`, `poutcome` features:\n",
    "    - `pdays` contains hidden NAN value (999) in 96% of records => can be dropped (+ explore correlation with `previous` and `poutcome` features)\n",
    "    - `previous` feature contains zeros in 86% of records => check if can be dropped (+ explore correlation with `pdays` and `poutcome` features)\n",
    "    - `potcome` feature contains 'nonexistent' value in 86% of records (probably the same where `previous` == 0) \n",
    "10. Impute real missing values left\n",
    "11. (!!!) dataset is HIGHLY IMBALANCED => we have to be careful when dropping rows. Have to OVERSAMPLE positive rows before training model\n"
   ]
  },
  {
   "cell_type": "code",
   "execution_count": 7,
   "metadata": {},
   "outputs": [
    {
     "name": "stdout",
     "output_type": "stream",
     "text": [
      "Calculating real NaNs ratio using `unknown` and `999` keyvalues:\n",
      "Column (value) \tNvalues \tRatio\n",
      "----------------------------------------\n",
      "job (`unknown`) \t240 \t0.8%\n",
      "marital (`unknown`) \t58 \t0.2%\n",
      "education (`unknown`) \t1234 \t4.3%\n",
      "default (`unknown`) \t6051 \t21.0%\n",
      "housing (`unknown`) \t707 \t2.5%\n",
      "loan (`unknown`) \t707 \t2.5%\n",
      "duration (`999`) \t1 \t0.0%\n",
      "pdays (`999`) \t27734 \t96.2%\n"
     ]
    }
   ],
   "source": [
    "# checking real number of missing values left\n",
    "cat_nan_equiv = 'unknown'\n",
    "num_nan_equiv = 999\n",
    "print(f'Calculating real NaNs ratio using `{cat_nan_equiv}` and `{num_nan_equiv}` keyvalues:')\n",
    "print('Column (value) \\tNvalues \\tRatio')\n",
    "print('-'*40)\n",
    "for col in df.columns:\n",
    "    if df[col].dtype == 'object':\n",
    "        nan_equiv = cat_nan_equiv\n",
    "    else:\n",
    "        nan_equiv = num_nan_equiv\n",
    "    if nan_equiv in list(df[col]):\n",
    "        freq_table = df[col].value_counts()\n",
    "        print('{} (`{}`) \\t{} \\t{:.1f}%'.format(col, nan_equiv, freq_table[nan_equiv], 100 * freq_table[nan_equiv] / len(df)))"
   ]
  },
  {
   "cell_type": "code",
   "execution_count": 8,
   "metadata": {},
   "outputs": [
    {
     "name": "stderr",
     "output_type": "stream",
     "text": [
      "C:\\Users\\Дмитрий\\AppData\\Local\\Temp\\ipykernel_14772\\481506882.py:4: FutureWarning: In a future version, `df.iloc[:, i] = newvals` will attempt to set the values inplace instead of always setting a new array. To retain the old behavior, use either `df[df.columns[i]] = newvals` or, if columns are non-unique, `df.isetitem(i, newvals)`\n",
      "  df.loc[:, 'y'] = df['y'].map({'yes': target_positive, 'no': target_negative})\n"
     ]
    },
    {
     "data": {
      "text/html": [
       "<div>\n",
       "<style scoped>\n",
       "    .dataframe tbody tr th:only-of-type {\n",
       "        vertical-align: middle;\n",
       "    }\n",
       "\n",
       "    .dataframe tbody tr th {\n",
       "        vertical-align: top;\n",
       "    }\n",
       "\n",
       "    .dataframe thead th {\n",
       "        text-align: right;\n",
       "    }\n",
       "</style>\n",
       "<table border=\"1\" class=\"dataframe\">\n",
       "  <thead>\n",
       "    <tr style=\"text-align: right;\">\n",
       "      <th></th>\n",
       "      <th>age</th>\n",
       "      <th>job</th>\n",
       "      <th>marital</th>\n",
       "      <th>education</th>\n",
       "      <th>default</th>\n",
       "      <th>housing</th>\n",
       "      <th>loan</th>\n",
       "      <th>contact</th>\n",
       "      <th>month</th>\n",
       "      <th>day_of_week</th>\n",
       "      <th>...</th>\n",
       "      <th>campaign</th>\n",
       "      <th>pdays</th>\n",
       "      <th>previous</th>\n",
       "      <th>poutcome</th>\n",
       "      <th>emp.var.rate</th>\n",
       "      <th>cons.price.idx</th>\n",
       "      <th>cons.conf.idx</th>\n",
       "      <th>euribor3m</th>\n",
       "      <th>nr.employed</th>\n",
       "      <th>y</th>\n",
       "    </tr>\n",
       "  </thead>\n",
       "  <tbody>\n",
       "    <tr>\n",
       "      <th>0</th>\n",
       "      <td>50</td>\n",
       "      <td>blue-collar</td>\n",
       "      <td>single</td>\n",
       "      <td>basic.4y</td>\n",
       "      <td>no</td>\n",
       "      <td>no</td>\n",
       "      <td>no</td>\n",
       "      <td>telephone</td>\n",
       "      <td>may</td>\n",
       "      <td>thu</td>\n",
       "      <td>...</td>\n",
       "      <td>2</td>\n",
       "      <td>999</td>\n",
       "      <td>0</td>\n",
       "      <td>nonexistent</td>\n",
       "      <td>1.1</td>\n",
       "      <td>93.994</td>\n",
       "      <td>-36.4</td>\n",
       "      <td>4.860</td>\n",
       "      <td>5191.0</td>\n",
       "      <td>0</td>\n",
       "    </tr>\n",
       "    <tr>\n",
       "      <th>1</th>\n",
       "      <td>51</td>\n",
       "      <td>services</td>\n",
       "      <td>married</td>\n",
       "      <td>professional.course</td>\n",
       "      <td>unknown</td>\n",
       "      <td>no</td>\n",
       "      <td>no</td>\n",
       "      <td>telephone</td>\n",
       "      <td>may</td>\n",
       "      <td>mon</td>\n",
       "      <td>...</td>\n",
       "      <td>5</td>\n",
       "      <td>999</td>\n",
       "      <td>0</td>\n",
       "      <td>nonexistent</td>\n",
       "      <td>1.1</td>\n",
       "      <td>93.994</td>\n",
       "      <td>-36.4</td>\n",
       "      <td>4.858</td>\n",
       "      <td>5191.0</td>\n",
       "      <td>0</td>\n",
       "    </tr>\n",
       "    <tr>\n",
       "      <th>2</th>\n",
       "      <td>46</td>\n",
       "      <td>technician</td>\n",
       "      <td>divorced</td>\n",
       "      <td>professional.course</td>\n",
       "      <td>no</td>\n",
       "      <td>yes</td>\n",
       "      <td>no</td>\n",
       "      <td>cellular</td>\n",
       "      <td>may</td>\n",
       "      <td>mon</td>\n",
       "      <td>...</td>\n",
       "      <td>2</td>\n",
       "      <td>999</td>\n",
       "      <td>0</td>\n",
       "      <td>nonexistent</td>\n",
       "      <td>-1.8</td>\n",
       "      <td>92.893</td>\n",
       "      <td>-46.2</td>\n",
       "      <td>1.244</td>\n",
       "      <td>5099.1</td>\n",
       "      <td>0</td>\n",
       "    </tr>\n",
       "    <tr>\n",
       "      <th>3</th>\n",
       "      <td>46</td>\n",
       "      <td>admin.</td>\n",
       "      <td>single</td>\n",
       "      <td>university.degree</td>\n",
       "      <td>no</td>\n",
       "      <td>yes</td>\n",
       "      <td>no</td>\n",
       "      <td>telephone</td>\n",
       "      <td>jun</td>\n",
       "      <td>mon</td>\n",
       "      <td>...</td>\n",
       "      <td>1</td>\n",
       "      <td>999</td>\n",
       "      <td>0</td>\n",
       "      <td>nonexistent</td>\n",
       "      <td>1.4</td>\n",
       "      <td>94.465</td>\n",
       "      <td>-41.8</td>\n",
       "      <td>4.961</td>\n",
       "      <td>5228.1</td>\n",
       "      <td>0</td>\n",
       "    </tr>\n",
       "    <tr>\n",
       "      <th>4</th>\n",
       "      <td>25</td>\n",
       "      <td>services</td>\n",
       "      <td>single</td>\n",
       "      <td>high.school</td>\n",
       "      <td>no</td>\n",
       "      <td>no</td>\n",
       "      <td>no</td>\n",
       "      <td>cellular</td>\n",
       "      <td>may</td>\n",
       "      <td>thu</td>\n",
       "      <td>...</td>\n",
       "      <td>5</td>\n",
       "      <td>999</td>\n",
       "      <td>0</td>\n",
       "      <td>nonexistent</td>\n",
       "      <td>-1.8</td>\n",
       "      <td>92.893</td>\n",
       "      <td>-46.2</td>\n",
       "      <td>1.266</td>\n",
       "      <td>5099.1</td>\n",
       "      <td>1</td>\n",
       "    </tr>\n",
       "  </tbody>\n",
       "</table>\n",
       "<p>5 rows × 21 columns</p>\n",
       "</div>"
      ],
      "text/plain": [
       "   age          job   marital            education  default housing loan  \\\n",
       "0   50  blue-collar    single             basic.4y       no      no   no   \n",
       "1   51     services   married  professional.course  unknown      no   no   \n",
       "2   46   technician  divorced  professional.course       no     yes   no   \n",
       "3   46       admin.    single    university.degree       no     yes   no   \n",
       "4   25     services    single          high.school       no      no   no   \n",
       "\n",
       "     contact month day_of_week  ...  campaign  pdays  previous     poutcome  \\\n",
       "0  telephone   may         thu  ...         2    999         0  nonexistent   \n",
       "1  telephone   may         mon  ...         5    999         0  nonexistent   \n",
       "2   cellular   may         mon  ...         2    999         0  nonexistent   \n",
       "3  telephone   jun         mon  ...         1    999         0  nonexistent   \n",
       "4   cellular   may         thu  ...         5    999         0  nonexistent   \n",
       "\n",
       "  emp.var.rate  cons.price.idx  cons.conf.idx  euribor3m  nr.employed  y  \n",
       "0          1.1          93.994          -36.4      4.860       5191.0  0  \n",
       "1          1.1          93.994          -36.4      4.858       5191.0  0  \n",
       "2         -1.8          92.893          -46.2      1.244       5099.1  0  \n",
       "3          1.4          94.465          -41.8      4.961       5228.1  0  \n",
       "4         -1.8          92.893          -46.2      1.266       5099.1  1  \n",
       "\n",
       "[5 rows x 21 columns]"
      ]
     },
     "execution_count": 8,
     "metadata": {},
     "output_type": "execute_result"
    }
   ],
   "source": [
    "# replacing string values with integers to ease further analysis\n",
    "target_positive = 1\n",
    "target_negative = 0\n",
    "df.loc[:, 'y'] = df['y'].map({'yes': target_positive, 'no': target_negative})\n",
    "df.head()"
   ]
  },
  {
   "attachments": {},
   "cell_type": "markdown",
   "metadata": {},
   "source": [
    "Implementation of function calculating Weight-of-Evidence (WoE, can be used as a replacer value when encoding categorical columns) and Information Value (can be used as feature's predictive power measure) for categorical columns  \n",
    "Encode possible values using Weight-of-Evidence (WoE) and/or Information Value (IV) approach  \n",
    "$ WoE = \\ln(\\frac{EventShare}{NonEventShare}) $  \n",
    "$ IV = \\sum{(EventShare-NonEventShare)*WoE} $"
   ]
  },
  {
   "cell_type": "code",
   "execution_count": 9,
   "metadata": {},
   "outputs": [],
   "source": [
    "# (OLD, NOT USED) slower version using pandas dataframe\n",
    "def get_woe_cat_df(X, y, return_details=False):\n",
    "    num_events_total = y.sum()\n",
    "    num_nonevents_total = len(y) - num_events_total\n",
    "    grouper = pd.DataFrame({'feature': X, 'target': y}).groupby('feature')\n",
    "    woe = pd.DataFrame({'num_events': grouper['target'].sum(), 'num_nonevents': grouper['target'].count() - grouper['target'].sum(), 'num_total': grouper['target'].count()})\n",
    "    woe['events_share'] = woe['num_events'] / num_events_total\n",
    "    woe['nonevents_share'] = woe['num_nonevents'] / num_nonevents_total\n",
    "    woe['woe'] = np.log(woe['events_share'] / woe['nonevents_share'])\n",
    "    woe['iv'] = (woe['events_share'] - woe['nonevents_share']) * woe['woe']\n",
    "    if return_details:\n",
    "        return (woe, woe['iv'].sum())\n",
    "    else:\n",
    "        return (woe['woe'], woe['iv'].sum())\n"
   ]
  },
  {
   "cell_type": "code",
   "execution_count": 10,
   "metadata": {},
   "outputs": [],
   "source": [
    "# faster (almost 40% faster) version based on numpy arrays\n",
    "def get_woe_cat(X, y, return_details=False):\n",
    "    # a = a[a[:, 0].argsort()] # sort by 1st column\n",
    "    # np.split(a[:,1], np.unique(a[:, 0], return_index=True)[1][1:]) # return grouped values\n",
    "    num_events_total = y.sum()\n",
    "    num_nonevents_total = len(y) - num_events_total\n",
    "    grouper = pd.DataFrame({'feature': X, 'target': y}).groupby('feature', as_index=True)\n",
    "\n",
    "    num_total = grouper['target'].count().to_numpy()\n",
    "    num_events = grouper['target'].sum().to_numpy()\n",
    "    index = grouper['target'].sum().index\n",
    "    \n",
    "    num_nonevents = num_total - num_events\n",
    "    events_share = num_events / num_events_total\n",
    "    nonevents_share = num_nonevents / num_nonevents_total\n",
    "    woe = np.log((events_share+0.001) / (nonevents_share+0.001)) # adding small value to nominator and denominator to exclude division by 0 error\n",
    "    iv = (events_share - nonevents_share) * woe\n",
    "    \n",
    "    if return_details:\n",
    "        return (\n",
    "            pd.DataFrame({\n",
    "                    'num_events': num_events, \n",
    "                    'num_nonevents': num_nonevents,\n",
    "                    'num_cat_total': num_total, \n",
    "                    'events_share': events_share, \n",
    "                    'nonevents_share': nonevents_share, \n",
    "                    'woe': woe, \n",
    "                    'iv': iv\n",
    "                }, \n",
    "                index = index\n",
    "            ),\n",
    "            iv.sum()\n",
    "        )\n",
    "    else:\n",
    "        return (pd.Series(woe, index=index, name='woe'), iv.sum())\n"
   ]
  },
  {
   "cell_type": "code",
   "execution_count": 11,
   "metadata": {},
   "outputs": [
    {
     "name": "stdout",
     "output_type": "stream",
     "text": [
      "Calculating prediction strength of features:\n",
      "Feature \tInformation Value\n",
      "-------------------------\n",
      "contact      \t0.2425\n",
      "day_of_week  \t0.0034\n",
      "default      \t0.1220\n",
      "education    \t0.0509\n",
      "housing      \t0.0006\n",
      "job          \t0.1740\n",
      "loan         \t0.0000\n",
      "marital      \t0.0307\n",
      "month        \t0.4527\n",
      "poutcome     \t0.5355\n"
     ]
    }
   ],
   "source": [
    "print('Calculating prediction strength of features:')\n",
    "print('Feature \\tInformation Value')\n",
    "print('-'*25)\n",
    "for col in df.select_dtypes(include='object').columns.difference(other=['y']):\n",
    "    (woe, iv) = get_woe_cat(df[col], df['y'])\n",
    "    print('{:12} \\t{:.4f}'.format(col, iv))"
   ]
  },
  {
   "attachments": {},
   "cell_type": "markdown",
   "metadata": {},
   "source": [
    "According to [web info](https://www.analyticsvidhya.com/blog/2021/06/understand-weight-of-evidence-and-information-value/) there are following ranges to determine predictive power of feature:  \n",
    "  \n",
    "| Information Value | Predictive power  |\n",
    "| --- | --- |    \n",
    "| <0.02             | Useless           |  \n",
    "| 0.02 to 0.1       | Weak predictors   |  \n",
    "| 0.1 to 0.3        | Medium Predictors |  \n",
    "| 0.3 to 0.5        | Strong predictors |  \n",
    "| >0.5              | Suspicious        |  "
   ]
  },
  {
   "cell_type": "code",
   "execution_count": 12,
   "metadata": {},
   "outputs": [],
   "source": [
    "def interpret_iv(iv):\n",
    "    if iv < 0.02:\n",
    "        return 'useless'\n",
    "    elif iv >= 0.02 and iv < 0.1:\n",
    "        return 'weak'\n",
    "    elif iv >=0.1 and iv < 0.3:\n",
    "        return 'medium'\n",
    "    elif iv >= 0.3 and iv < 0.5:\n",
    "        return 'strong'\n",
    "    else:\n",
    "        return 'suspicious'"
   ]
  },
  {
   "attachments": {},
   "cell_type": "markdown",
   "metadata": {},
   "source": [
    "### 1. Duplicate rows"
   ]
  },
  {
   "cell_type": "code",
   "execution_count": 13,
   "metadata": {},
   "outputs": [
    {
     "data": {
      "text/html": [
       "<div>\n",
       "<style scoped>\n",
       "    .dataframe tbody tr th:only-of-type {\n",
       "        vertical-align: middle;\n",
       "    }\n",
       "\n",
       "    .dataframe tbody tr th {\n",
       "        vertical-align: top;\n",
       "    }\n",
       "\n",
       "    .dataframe thead th {\n",
       "        text-align: right;\n",
       "    }\n",
       "</style>\n",
       "<table border=\"1\" class=\"dataframe\">\n",
       "  <thead>\n",
       "    <tr style=\"text-align: right;\">\n",
       "      <th></th>\n",
       "      <th>age</th>\n",
       "      <th>job</th>\n",
       "      <th>marital</th>\n",
       "      <th>education</th>\n",
       "      <th>default</th>\n",
       "      <th>housing</th>\n",
       "      <th>loan</th>\n",
       "      <th>contact</th>\n",
       "      <th>month</th>\n",
       "      <th>day_of_week</th>\n",
       "      <th>...</th>\n",
       "      <th>campaign</th>\n",
       "      <th>pdays</th>\n",
       "      <th>previous</th>\n",
       "      <th>poutcome</th>\n",
       "      <th>emp.var.rate</th>\n",
       "      <th>cons.price.idx</th>\n",
       "      <th>cons.conf.idx</th>\n",
       "      <th>euribor3m</th>\n",
       "      <th>nr.employed</th>\n",
       "      <th>y</th>\n",
       "    </tr>\n",
       "  </thead>\n",
       "  <tbody>\n",
       "    <tr>\n",
       "      <th>595</th>\n",
       "      <td>39</td>\n",
       "      <td>admin.</td>\n",
       "      <td>married</td>\n",
       "      <td>university.degree</td>\n",
       "      <td>no</td>\n",
       "      <td>no</td>\n",
       "      <td>no</td>\n",
       "      <td>cellular</td>\n",
       "      <td>nov</td>\n",
       "      <td>tue</td>\n",
       "      <td>...</td>\n",
       "      <td>2</td>\n",
       "      <td>999</td>\n",
       "      <td>0</td>\n",
       "      <td>nonexistent</td>\n",
       "      <td>-0.1</td>\n",
       "      <td>93.200</td>\n",
       "      <td>-42.0</td>\n",
       "      <td>4.153</td>\n",
       "      <td>5195.8</td>\n",
       "      <td>0</td>\n",
       "    </tr>\n",
       "    <tr>\n",
       "      <th>1309</th>\n",
       "      <td>39</td>\n",
       "      <td>admin.</td>\n",
       "      <td>married</td>\n",
       "      <td>university.degree</td>\n",
       "      <td>no</td>\n",
       "      <td>no</td>\n",
       "      <td>no</td>\n",
       "      <td>cellular</td>\n",
       "      <td>nov</td>\n",
       "      <td>tue</td>\n",
       "      <td>...</td>\n",
       "      <td>2</td>\n",
       "      <td>999</td>\n",
       "      <td>0</td>\n",
       "      <td>nonexistent</td>\n",
       "      <td>-0.1</td>\n",
       "      <td>93.200</td>\n",
       "      <td>-42.0</td>\n",
       "      <td>4.153</td>\n",
       "      <td>5195.8</td>\n",
       "      <td>0</td>\n",
       "    </tr>\n",
       "    <tr>\n",
       "      <th>3095</th>\n",
       "      <td>36</td>\n",
       "      <td>retired</td>\n",
       "      <td>married</td>\n",
       "      <td>unknown</td>\n",
       "      <td>no</td>\n",
       "      <td>no</td>\n",
       "      <td>no</td>\n",
       "      <td>telephone</td>\n",
       "      <td>jul</td>\n",
       "      <td>thu</td>\n",
       "      <td>...</td>\n",
       "      <td>1</td>\n",
       "      <td>999</td>\n",
       "      <td>0</td>\n",
       "      <td>nonexistent</td>\n",
       "      <td>1.4</td>\n",
       "      <td>93.918</td>\n",
       "      <td>-42.7</td>\n",
       "      <td>4.966</td>\n",
       "      <td>5228.1</td>\n",
       "      <td>0</td>\n",
       "    </tr>\n",
       "    <tr>\n",
       "      <th>4657</th>\n",
       "      <td>35</td>\n",
       "      <td>admin.</td>\n",
       "      <td>married</td>\n",
       "      <td>university.degree</td>\n",
       "      <td>no</td>\n",
       "      <td>yes</td>\n",
       "      <td>no</td>\n",
       "      <td>cellular</td>\n",
       "      <td>may</td>\n",
       "      <td>fri</td>\n",
       "      <td>...</td>\n",
       "      <td>4</td>\n",
       "      <td>999</td>\n",
       "      <td>0</td>\n",
       "      <td>nonexistent</td>\n",
       "      <td>-1.8</td>\n",
       "      <td>92.893</td>\n",
       "      <td>-46.2</td>\n",
       "      <td>1.313</td>\n",
       "      <td>5099.1</td>\n",
       "      <td>0</td>\n",
       "    </tr>\n",
       "    <tr>\n",
       "      <th>8702</th>\n",
       "      <td>35</td>\n",
       "      <td>admin.</td>\n",
       "      <td>married</td>\n",
       "      <td>university.degree</td>\n",
       "      <td>no</td>\n",
       "      <td>yes</td>\n",
       "      <td>no</td>\n",
       "      <td>cellular</td>\n",
       "      <td>may</td>\n",
       "      <td>fri</td>\n",
       "      <td>...</td>\n",
       "      <td>4</td>\n",
       "      <td>999</td>\n",
       "      <td>0</td>\n",
       "      <td>nonexistent</td>\n",
       "      <td>-1.8</td>\n",
       "      <td>92.893</td>\n",
       "      <td>-46.2</td>\n",
       "      <td>1.313</td>\n",
       "      <td>5099.1</td>\n",
       "      <td>0</td>\n",
       "    </tr>\n",
       "    <tr>\n",
       "      <th>10205</th>\n",
       "      <td>36</td>\n",
       "      <td>retired</td>\n",
       "      <td>married</td>\n",
       "      <td>unknown</td>\n",
       "      <td>no</td>\n",
       "      <td>no</td>\n",
       "      <td>no</td>\n",
       "      <td>telephone</td>\n",
       "      <td>jul</td>\n",
       "      <td>thu</td>\n",
       "      <td>...</td>\n",
       "      <td>1</td>\n",
       "      <td>999</td>\n",
       "      <td>0</td>\n",
       "      <td>nonexistent</td>\n",
       "      <td>1.4</td>\n",
       "      <td>93.918</td>\n",
       "      <td>-42.7</td>\n",
       "      <td>4.966</td>\n",
       "      <td>5228.1</td>\n",
       "      <td>0</td>\n",
       "    </tr>\n",
       "    <tr>\n",
       "      <th>13216</th>\n",
       "      <td>47</td>\n",
       "      <td>technician</td>\n",
       "      <td>divorced</td>\n",
       "      <td>high.school</td>\n",
       "      <td>no</td>\n",
       "      <td>yes</td>\n",
       "      <td>no</td>\n",
       "      <td>cellular</td>\n",
       "      <td>jul</td>\n",
       "      <td>thu</td>\n",
       "      <td>...</td>\n",
       "      <td>3</td>\n",
       "      <td>999</td>\n",
       "      <td>0</td>\n",
       "      <td>nonexistent</td>\n",
       "      <td>1.4</td>\n",
       "      <td>93.918</td>\n",
       "      <td>-42.7</td>\n",
       "      <td>4.962</td>\n",
       "      <td>5228.1</td>\n",
       "      <td>0</td>\n",
       "    </tr>\n",
       "    <tr>\n",
       "      <th>15353</th>\n",
       "      <td>41</td>\n",
       "      <td>technician</td>\n",
       "      <td>married</td>\n",
       "      <td>professional.course</td>\n",
       "      <td>no</td>\n",
       "      <td>yes</td>\n",
       "      <td>no</td>\n",
       "      <td>cellular</td>\n",
       "      <td>aug</td>\n",
       "      <td>tue</td>\n",
       "      <td>...</td>\n",
       "      <td>1</td>\n",
       "      <td>999</td>\n",
       "      <td>0</td>\n",
       "      <td>nonexistent</td>\n",
       "      <td>1.4</td>\n",
       "      <td>93.444</td>\n",
       "      <td>-36.1</td>\n",
       "      <td>4.966</td>\n",
       "      <td>5228.1</td>\n",
       "      <td>0</td>\n",
       "    </tr>\n",
       "    <tr>\n",
       "      <th>18168</th>\n",
       "      <td>71</td>\n",
       "      <td>retired</td>\n",
       "      <td>single</td>\n",
       "      <td>university.degree</td>\n",
       "      <td>no</td>\n",
       "      <td>no</td>\n",
       "      <td>no</td>\n",
       "      <td>telephone</td>\n",
       "      <td>oct</td>\n",
       "      <td>tue</td>\n",
       "      <td>...</td>\n",
       "      <td>1</td>\n",
       "      <td>999</td>\n",
       "      <td>0</td>\n",
       "      <td>nonexistent</td>\n",
       "      <td>-3.4</td>\n",
       "      <td>92.431</td>\n",
       "      <td>-26.9</td>\n",
       "      <td>0.742</td>\n",
       "      <td>5017.5</td>\n",
       "      <td>0</td>\n",
       "    </tr>\n",
       "    <tr>\n",
       "      <th>21658</th>\n",
       "      <td>41</td>\n",
       "      <td>technician</td>\n",
       "      <td>married</td>\n",
       "      <td>professional.course</td>\n",
       "      <td>no</td>\n",
       "      <td>yes</td>\n",
       "      <td>no</td>\n",
       "      <td>cellular</td>\n",
       "      <td>aug</td>\n",
       "      <td>tue</td>\n",
       "      <td>...</td>\n",
       "      <td>1</td>\n",
       "      <td>999</td>\n",
       "      <td>0</td>\n",
       "      <td>nonexistent</td>\n",
       "      <td>1.4</td>\n",
       "      <td>93.444</td>\n",
       "      <td>-36.1</td>\n",
       "      <td>4.966</td>\n",
       "      <td>5228.1</td>\n",
       "      <td>0</td>\n",
       "    </tr>\n",
       "    <tr>\n",
       "      <th>25316</th>\n",
       "      <td>39</td>\n",
       "      <td>blue-collar</td>\n",
       "      <td>married</td>\n",
       "      <td>basic.6y</td>\n",
       "      <td>no</td>\n",
       "      <td>no</td>\n",
       "      <td>no</td>\n",
       "      <td>telephone</td>\n",
       "      <td>may</td>\n",
       "      <td>thu</td>\n",
       "      <td>...</td>\n",
       "      <td>1</td>\n",
       "      <td>999</td>\n",
       "      <td>0</td>\n",
       "      <td>nonexistent</td>\n",
       "      <td>1.1</td>\n",
       "      <td>93.994</td>\n",
       "      <td>-36.4</td>\n",
       "      <td>4.855</td>\n",
       "      <td>5191.0</td>\n",
       "      <td>0</td>\n",
       "    </tr>\n",
       "    <tr>\n",
       "      <th>25754</th>\n",
       "      <td>47</td>\n",
       "      <td>technician</td>\n",
       "      <td>divorced</td>\n",
       "      <td>high.school</td>\n",
       "      <td>no</td>\n",
       "      <td>yes</td>\n",
       "      <td>no</td>\n",
       "      <td>cellular</td>\n",
       "      <td>jul</td>\n",
       "      <td>thu</td>\n",
       "      <td>...</td>\n",
       "      <td>3</td>\n",
       "      <td>999</td>\n",
       "      <td>0</td>\n",
       "      <td>nonexistent</td>\n",
       "      <td>1.4</td>\n",
       "      <td>93.918</td>\n",
       "      <td>-42.7</td>\n",
       "      <td>4.962</td>\n",
       "      <td>5228.1</td>\n",
       "      <td>0</td>\n",
       "    </tr>\n",
       "    <tr>\n",
       "      <th>26850</th>\n",
       "      <td>71</td>\n",
       "      <td>retired</td>\n",
       "      <td>single</td>\n",
       "      <td>university.degree</td>\n",
       "      <td>no</td>\n",
       "      <td>no</td>\n",
       "      <td>no</td>\n",
       "      <td>telephone</td>\n",
       "      <td>oct</td>\n",
       "      <td>tue</td>\n",
       "      <td>...</td>\n",
       "      <td>1</td>\n",
       "      <td>999</td>\n",
       "      <td>0</td>\n",
       "      <td>nonexistent</td>\n",
       "      <td>-3.4</td>\n",
       "      <td>92.431</td>\n",
       "      <td>-26.9</td>\n",
       "      <td>0.742</td>\n",
       "      <td>5017.5</td>\n",
       "      <td>0</td>\n",
       "    </tr>\n",
       "    <tr>\n",
       "      <th>28391</th>\n",
       "      <td>39</td>\n",
       "      <td>blue-collar</td>\n",
       "      <td>married</td>\n",
       "      <td>basic.6y</td>\n",
       "      <td>no</td>\n",
       "      <td>no</td>\n",
       "      <td>no</td>\n",
       "      <td>telephone</td>\n",
       "      <td>may</td>\n",
       "      <td>thu</td>\n",
       "      <td>...</td>\n",
       "      <td>1</td>\n",
       "      <td>999</td>\n",
       "      <td>0</td>\n",
       "      <td>nonexistent</td>\n",
       "      <td>1.1</td>\n",
       "      <td>93.994</td>\n",
       "      <td>-36.4</td>\n",
       "      <td>4.855</td>\n",
       "      <td>5191.0</td>\n",
       "      <td>0</td>\n",
       "    </tr>\n",
       "  </tbody>\n",
       "</table>\n",
       "<p>14 rows × 21 columns</p>\n",
       "</div>"
      ],
      "text/plain": [
       "       age          job   marital            education default housing loan  \\\n",
       "595     39       admin.   married    university.degree      no      no   no   \n",
       "1309    39       admin.   married    university.degree      no      no   no   \n",
       "3095    36      retired   married              unknown      no      no   no   \n",
       "4657    35       admin.   married    university.degree      no     yes   no   \n",
       "8702    35       admin.   married    university.degree      no     yes   no   \n",
       "10205   36      retired   married              unknown      no      no   no   \n",
       "13216   47   technician  divorced          high.school      no     yes   no   \n",
       "15353   41   technician   married  professional.course      no     yes   no   \n",
       "18168   71      retired    single    university.degree      no      no   no   \n",
       "21658   41   technician   married  professional.course      no     yes   no   \n",
       "25316   39  blue-collar   married             basic.6y      no      no   no   \n",
       "25754   47   technician  divorced          high.school      no     yes   no   \n",
       "26850   71      retired    single    university.degree      no      no   no   \n",
       "28391   39  blue-collar   married             basic.6y      no      no   no   \n",
       "\n",
       "         contact month day_of_week  ...  campaign  pdays  previous  \\\n",
       "595     cellular   nov         tue  ...         2    999         0   \n",
       "1309    cellular   nov         tue  ...         2    999         0   \n",
       "3095   telephone   jul         thu  ...         1    999         0   \n",
       "4657    cellular   may         fri  ...         4    999         0   \n",
       "8702    cellular   may         fri  ...         4    999         0   \n",
       "10205  telephone   jul         thu  ...         1    999         0   \n",
       "13216   cellular   jul         thu  ...         3    999         0   \n",
       "15353   cellular   aug         tue  ...         1    999         0   \n",
       "18168  telephone   oct         tue  ...         1    999         0   \n",
       "21658   cellular   aug         tue  ...         1    999         0   \n",
       "25316  telephone   may         thu  ...         1    999         0   \n",
       "25754   cellular   jul         thu  ...         3    999         0   \n",
       "26850  telephone   oct         tue  ...         1    999         0   \n",
       "28391  telephone   may         thu  ...         1    999         0   \n",
       "\n",
       "          poutcome emp.var.rate  cons.price.idx  cons.conf.idx  euribor3m  \\\n",
       "595    nonexistent         -0.1          93.200          -42.0      4.153   \n",
       "1309   nonexistent         -0.1          93.200          -42.0      4.153   \n",
       "3095   nonexistent          1.4          93.918          -42.7      4.966   \n",
       "4657   nonexistent         -1.8          92.893          -46.2      1.313   \n",
       "8702   nonexistent         -1.8          92.893          -46.2      1.313   \n",
       "10205  nonexistent          1.4          93.918          -42.7      4.966   \n",
       "13216  nonexistent          1.4          93.918          -42.7      4.962   \n",
       "15353  nonexistent          1.4          93.444          -36.1      4.966   \n",
       "18168  nonexistent         -3.4          92.431          -26.9      0.742   \n",
       "21658  nonexistent          1.4          93.444          -36.1      4.966   \n",
       "25316  nonexistent          1.1          93.994          -36.4      4.855   \n",
       "25754  nonexistent          1.4          93.918          -42.7      4.962   \n",
       "26850  nonexistent         -3.4          92.431          -26.9      0.742   \n",
       "28391  nonexistent          1.1          93.994          -36.4      4.855   \n",
       "\n",
       "       nr.employed  y  \n",
       "595         5195.8  0  \n",
       "1309        5195.8  0  \n",
       "3095        5228.1  0  \n",
       "4657        5099.1  0  \n",
       "8702        5099.1  0  \n",
       "10205       5228.1  0  \n",
       "13216       5228.1  0  \n",
       "15353       5228.1  0  \n",
       "18168       5017.5  0  \n",
       "21658       5228.1  0  \n",
       "25316       5191.0  0  \n",
       "25754       5228.1  0  \n",
       "26850       5017.5  0  \n",
       "28391       5191.0  0  \n",
       "\n",
       "[14 rows x 21 columns]"
      ]
     },
     "execution_count": 13,
     "metadata": {},
     "output_type": "execute_result"
    }
   ],
   "source": [
    "# search and display by mask\n",
    "m = df.duplicated(keep=False)\n",
    "df.loc[m, :]"
   ]
  },
  {
   "attachments": {},
   "cell_type": "markdown",
   "metadata": {},
   "source": [
    "[ASSUMPTION] We've lost the initial order of records when splitted dataset on training and testing parts. And now we can't verify that duplicated records are related to different years => different people. So we assume that duplicated records mean different observations and are not errors in dataset"
   ]
  },
  {
   "attachments": {},
   "cell_type": "markdown",
   "metadata": {},
   "source": [
    "### 2. `default` feature"
   ]
  },
  {
   "attachments": {},
   "cell_type": "markdown",
   "metadata": {},
   "source": [
    "Reminder: (1) in bank sphere the presence of credit in default status usually is considered as a stop-factor for banking service, (2) there are no rows with y == 'yes' AND default == 'yes', (3) among 'unknown' observations there are some with y == 'yes', but it doesn't contain any useful info for model, (4) imputing will most probably use most frequent value ('no'), so in this way `default` isn't useful for model too => feature can be dropped safely"
   ]
  },
  {
   "attachments": {},
   "cell_type": "markdown",
   "metadata": {},
   "source": [
    "But Information Value indicator shows that `default` has medium predictive power. So it's better to leave it for now and test model accuracy later with and without this feature"
   ]
  },
  {
   "cell_type": "code",
   "execution_count": 14,
   "metadata": {},
   "outputs": [
    {
     "name": "stdout",
     "output_type": "stream",
     "text": [
      "Information Value: 0.1220 (medium)\n"
     ]
    },
    {
     "data": {
      "text/plain": [
       "feature\n",
       "no         0.150267\n",
       "unknown   -0.819063\n",
       "yes       -0.110884\n",
       "Name: woe, dtype: float64"
      ]
     },
     "execution_count": 14,
     "metadata": {},
     "output_type": "execute_result"
    }
   ],
   "source": [
    "woe, iv = get_woe_cat(df['default'], df['y'])\n",
    "print('Information Value: {:.4f} ({})'.format(iv, interpret_iv(iv)))\n",
    "woe"
   ]
  },
  {
   "cell_type": "code",
   "execution_count": 15,
   "metadata": {},
   "outputs": [],
   "source": [
    "#df = df.drop(columns='default')\n",
    "#df.info()"
   ]
  },
  {
   "cell_type": "code",
   "execution_count": 16,
   "metadata": {},
   "outputs": [
    {
     "data": {
      "text/html": [
       "<div>\n",
       "<style scoped>\n",
       "    .dataframe tbody tr th:only-of-type {\n",
       "        vertical-align: middle;\n",
       "    }\n",
       "\n",
       "    .dataframe tbody tr th {\n",
       "        vertical-align: top;\n",
       "    }\n",
       "\n",
       "    .dataframe thead th {\n",
       "        text-align: right;\n",
       "    }\n",
       "</style>\n",
       "<table border=\"1\" class=\"dataframe\">\n",
       "  <thead>\n",
       "    <tr style=\"text-align: right;\">\n",
       "      <th></th>\n",
       "      <th>age</th>\n",
       "      <th>job</th>\n",
       "      <th>marital</th>\n",
       "      <th>education</th>\n",
       "      <th>default</th>\n",
       "      <th>housing</th>\n",
       "      <th>loan</th>\n",
       "      <th>contact</th>\n",
       "      <th>month</th>\n",
       "      <th>day_of_week</th>\n",
       "      <th>...</th>\n",
       "      <th>campaign</th>\n",
       "      <th>pdays</th>\n",
       "      <th>previous</th>\n",
       "      <th>poutcome</th>\n",
       "      <th>emp.var.rate</th>\n",
       "      <th>cons.price.idx</th>\n",
       "      <th>cons.conf.idx</th>\n",
       "      <th>euribor3m</th>\n",
       "      <th>nr.employed</th>\n",
       "      <th>y</th>\n",
       "    </tr>\n",
       "  </thead>\n",
       "  <tbody>\n",
       "    <tr>\n",
       "      <th>4700</th>\n",
       "      <td>36</td>\n",
       "      <td>admin.</td>\n",
       "      <td>married</td>\n",
       "      <td>university.degree</td>\n",
       "      <td>0.150267</td>\n",
       "      <td>yes</td>\n",
       "      <td>yes</td>\n",
       "      <td>cellular</td>\n",
       "      <td>jul</td>\n",
       "      <td>mon</td>\n",
       "      <td>...</td>\n",
       "      <td>2</td>\n",
       "      <td>999</td>\n",
       "      <td>0</td>\n",
       "      <td>nonexistent</td>\n",
       "      <td>1.4</td>\n",
       "      <td>93.918</td>\n",
       "      <td>-42.7</td>\n",
       "      <td>4.962</td>\n",
       "      <td>5228.1</td>\n",
       "      <td>0</td>\n",
       "    </tr>\n",
       "    <tr>\n",
       "      <th>16575</th>\n",
       "      <td>44</td>\n",
       "      <td>admin.</td>\n",
       "      <td>married</td>\n",
       "      <td>high.school</td>\n",
       "      <td>0.150267</td>\n",
       "      <td>no</td>\n",
       "      <td>yes</td>\n",
       "      <td>cellular</td>\n",
       "      <td>aug</td>\n",
       "      <td>tue</td>\n",
       "      <td>...</td>\n",
       "      <td>1</td>\n",
       "      <td>999</td>\n",
       "      <td>0</td>\n",
       "      <td>nonexistent</td>\n",
       "      <td>1.4</td>\n",
       "      <td>93.444</td>\n",
       "      <td>-36.1</td>\n",
       "      <td>4.966</td>\n",
       "      <td>5228.1</td>\n",
       "      <td>0</td>\n",
       "    </tr>\n",
       "    <tr>\n",
       "      <th>8872</th>\n",
       "      <td>34</td>\n",
       "      <td>admin.</td>\n",
       "      <td>married</td>\n",
       "      <td>university.degree</td>\n",
       "      <td>0.150267</td>\n",
       "      <td>yes</td>\n",
       "      <td>no</td>\n",
       "      <td>cellular</td>\n",
       "      <td>may</td>\n",
       "      <td>mon</td>\n",
       "      <td>...</td>\n",
       "      <td>1</td>\n",
       "      <td>999</td>\n",
       "      <td>1</td>\n",
       "      <td>failure</td>\n",
       "      <td>-1.8</td>\n",
       "      <td>92.893</td>\n",
       "      <td>-46.2</td>\n",
       "      <td>1.264</td>\n",
       "      <td>5099.1</td>\n",
       "      <td>0</td>\n",
       "    </tr>\n",
       "    <tr>\n",
       "      <th>6416</th>\n",
       "      <td>35</td>\n",
       "      <td>blue-collar</td>\n",
       "      <td>married</td>\n",
       "      <td>basic.4y</td>\n",
       "      <td>-0.819063</td>\n",
       "      <td>yes</td>\n",
       "      <td>no</td>\n",
       "      <td>telephone</td>\n",
       "      <td>jun</td>\n",
       "      <td>tue</td>\n",
       "      <td>...</td>\n",
       "      <td>2</td>\n",
       "      <td>999</td>\n",
       "      <td>0</td>\n",
       "      <td>nonexistent</td>\n",
       "      <td>1.4</td>\n",
       "      <td>94.465</td>\n",
       "      <td>-41.8</td>\n",
       "      <td>4.864</td>\n",
       "      <td>5228.1</td>\n",
       "      <td>0</td>\n",
       "    </tr>\n",
       "    <tr>\n",
       "      <th>22854</th>\n",
       "      <td>68</td>\n",
       "      <td>retired</td>\n",
       "      <td>married</td>\n",
       "      <td>university.degree</td>\n",
       "      <td>0.150267</td>\n",
       "      <td>yes</td>\n",
       "      <td>no</td>\n",
       "      <td>cellular</td>\n",
       "      <td>jul</td>\n",
       "      <td>mon</td>\n",
       "      <td>...</td>\n",
       "      <td>2</td>\n",
       "      <td>999</td>\n",
       "      <td>1</td>\n",
       "      <td>failure</td>\n",
       "      <td>-1.7</td>\n",
       "      <td>94.215</td>\n",
       "      <td>-40.3</td>\n",
       "      <td>0.889</td>\n",
       "      <td>4991.6</td>\n",
       "      <td>1</td>\n",
       "    </tr>\n",
       "  </tbody>\n",
       "</table>\n",
       "<p>5 rows × 21 columns</p>\n",
       "</div>"
      ],
      "text/plain": [
       "       age          job  marital          education   default housing loan  \\\n",
       "4700    36       admin.  married  university.degree  0.150267     yes  yes   \n",
       "16575   44       admin.  married        high.school  0.150267      no  yes   \n",
       "8872    34       admin.  married  university.degree  0.150267     yes   no   \n",
       "6416    35  blue-collar  married           basic.4y -0.819063     yes   no   \n",
       "22854   68      retired  married  university.degree  0.150267     yes   no   \n",
       "\n",
       "         contact month day_of_week  ...  campaign  pdays  previous  \\\n",
       "4700    cellular   jul         mon  ...         2    999         0   \n",
       "16575   cellular   aug         tue  ...         1    999         0   \n",
       "8872    cellular   may         mon  ...         1    999         1   \n",
       "6416   telephone   jun         tue  ...         2    999         0   \n",
       "22854   cellular   jul         mon  ...         2    999         1   \n",
       "\n",
       "          poutcome emp.var.rate  cons.price.idx  cons.conf.idx  euribor3m  \\\n",
       "4700   nonexistent          1.4          93.918          -42.7      4.962   \n",
       "16575  nonexistent          1.4          93.444          -36.1      4.966   \n",
       "8872       failure         -1.8          92.893          -46.2      1.264   \n",
       "6416   nonexistent          1.4          94.465          -41.8      4.864   \n",
       "22854      failure         -1.7          94.215          -40.3      0.889   \n",
       "\n",
       "       nr.employed  y  \n",
       "4700        5228.1  0  \n",
       "16575       5228.1  0  \n",
       "8872        5099.1  0  \n",
       "6416        5228.1  0  \n",
       "22854       4991.6  1  \n",
       "\n",
       "[5 rows x 21 columns]"
      ]
     },
     "execution_count": 16,
     "metadata": {},
     "output_type": "execute_result"
    }
   ],
   "source": [
    "# encoding by WoE values\n",
    "df['default'] = df['default'].map(dict(zip(woe.index, woe.values)))\n",
    "df.sample(5)"
   ]
  },
  {
   "attachments": {},
   "cell_type": "markdown",
   "metadata": {},
   "source": [
    "[PIPELINE] This step should appear in preprocessing pipeline"
   ]
  },
  {
   "attachments": {},
   "cell_type": "markdown",
   "metadata": {},
   "source": [
    "### 3. Check correlations between features"
   ]
  },
  {
   "cell_type": "code",
   "execution_count": 17,
   "metadata": {},
   "outputs": [
    {
     "name": "stdout",
     "output_type": "stream",
     "text": [
      "['age', 'job', 'marital', 'education', 'housing', 'loan']\n"
     ]
    }
   ],
   "source": [
    "personal_columns = list(df.columns[:4])+list(df.columns[5:7]) # exclude 'default' feature\n",
    "print(personal_columns)"
   ]
  },
  {
   "cell_type": "code",
   "execution_count": 18,
   "metadata": {},
   "outputs": [
    {
     "name": "stdout",
     "output_type": "stream",
     "text": [
      "Calculating prediction strength of features:\n",
      "Feature \tInformation Value\n",
      "-------------------------\n",
      "age          \t0.1827 (medium)\n",
      "job          \t0.1740 (medium)\n",
      "marital      \t0.0307 (weak)\n",
      "education    \t0.0509 (weak)\n",
      "housing      \t0.0006 (useless)\n",
      "loan         \t0.0000 (useless)\n"
     ]
    }
   ],
   "source": [
    "print('Calculating prediction strength of features:')\n",
    "print('Feature \\tInformation Value')\n",
    "print('-'*25)\n",
    "for col in personal_columns:\n",
    "    (woe, iv) = get_woe_cat(df[col], df['y'])\n",
    "    print('{:12} \\t{:.4f} ({})'.format(col, iv, interpret_iv(iv)))"
   ]
  },
  {
   "attachments": {},
   "cell_type": "markdown",
   "metadata": {},
   "source": [
    "Correlation also can help to suppose values to use in imputing process"
   ]
  },
  {
   "attachments": {},
   "cell_type": "markdown",
   "metadata": {},
   "source": [
    "We have numeric features only in 'Previous Campaign Results' (features 9-12) and 'Socioeconomic Indicators' (features 14-18) sections (not saying about age).  \n",
    "Obviously 'Socioeconomic Indicators' don't have a causal relations with individual characteristics even if correlation is high. So we will not analyse these cross-section values.  \n",
    "But we would like to test some relations between 'Individual Characteristics' section's features:\n",
    "- is there any relation between:\n",
    "    - age and job?\n",
    "    - age and marital?\n",
    "    - job and edication?\n",
    "- are any of individual characteristics in relation with presence / absence of loans? "
   ]
  },
  {
   "cell_type": "code",
   "execution_count": 19,
   "metadata": {},
   "outputs": [],
   "source": [
    "# Step 1 - Replace all 'unknown' values with np.nan to ease further analysis\n",
    "#df.replace({'unknown': np.nan}, inplace=True) ??? EXCLUDE"
   ]
  },
  {
   "cell_type": "code",
   "execution_count": 20,
   "metadata": {},
   "outputs": [
    {
     "data": {
      "text/html": [
       "<div>\n",
       "<style scoped>\n",
       "    .dataframe tbody tr th:only-of-type {\n",
       "        vertical-align: middle;\n",
       "    }\n",
       "\n",
       "    .dataframe tbody tr th {\n",
       "        vertical-align: top;\n",
       "    }\n",
       "\n",
       "    .dataframe thead th {\n",
       "        text-align: right;\n",
       "    }\n",
       "</style>\n",
       "<table border=\"1\" class=\"dataframe\">\n",
       "  <thead>\n",
       "    <tr style=\"text-align: right;\">\n",
       "      <th></th>\n",
       "      <th>age</th>\n",
       "      <th>job</th>\n",
       "      <th>marital</th>\n",
       "      <th>education</th>\n",
       "      <th>housing</th>\n",
       "      <th>loan</th>\n",
       "      <th>y</th>\n",
       "    </tr>\n",
       "  </thead>\n",
       "  <tbody>\n",
       "    <tr>\n",
       "      <th>age</th>\n",
       "      <td>1.000000</td>\n",
       "      <td>0.516505</td>\n",
       "      <td>0.418494</td>\n",
       "      <td>0.240274</td>\n",
       "      <td>0.000000</td>\n",
       "      <td>0.000000</td>\n",
       "      <td>0.222166</td>\n",
       "    </tr>\n",
       "    <tr>\n",
       "      <th>job</th>\n",
       "      <td>0.516505</td>\n",
       "      <td>1.000000</td>\n",
       "      <td>0.381468</td>\n",
       "      <td>0.673271</td>\n",
       "      <td>0.028369</td>\n",
       "      <td>0.022630</td>\n",
       "      <td>0.188271</td>\n",
       "    </tr>\n",
       "    <tr>\n",
       "      <th>marital</th>\n",
       "      <td>0.418494</td>\n",
       "      <td>0.381468</td>\n",
       "      <td>1.000000</td>\n",
       "      <td>0.257179</td>\n",
       "      <td>0.013131</td>\n",
       "      <td>0.000000</td>\n",
       "      <td>0.085282</td>\n",
       "    </tr>\n",
       "    <tr>\n",
       "      <th>education</th>\n",
       "      <td>0.240274</td>\n",
       "      <td>0.673271</td>\n",
       "      <td>0.257179</td>\n",
       "      <td>1.000000</td>\n",
       "      <td>0.025280</td>\n",
       "      <td>0.000000</td>\n",
       "      <td>0.091598</td>\n",
       "    </tr>\n",
       "    <tr>\n",
       "      <th>housing</th>\n",
       "      <td>0.000000</td>\n",
       "      <td>0.028369</td>\n",
       "      <td>0.013131</td>\n",
       "      <td>0.025280</td>\n",
       "      <td>1.000000</td>\n",
       "      <td>0.943155</td>\n",
       "      <td>0.000000</td>\n",
       "    </tr>\n",
       "    <tr>\n",
       "      <th>loan</th>\n",
       "      <td>0.000000</td>\n",
       "      <td>0.022630</td>\n",
       "      <td>0.000000</td>\n",
       "      <td>0.000000</td>\n",
       "      <td>0.943155</td>\n",
       "      <td>1.000000</td>\n",
       "      <td>0.000000</td>\n",
       "    </tr>\n",
       "    <tr>\n",
       "      <th>y</th>\n",
       "      <td>0.222166</td>\n",
       "      <td>0.188271</td>\n",
       "      <td>0.085282</td>\n",
       "      <td>0.091598</td>\n",
       "      <td>0.000000</td>\n",
       "      <td>0.000000</td>\n",
       "      <td>1.000000</td>\n",
       "    </tr>\n",
       "  </tbody>\n",
       "</table>\n",
       "</div>"
      ],
      "text/plain": [
       "                age       job   marital  education   housing      loan  \\\n",
       "age        1.000000  0.516505  0.418494   0.240274  0.000000  0.000000   \n",
       "job        0.516505  1.000000  0.381468   0.673271  0.028369  0.022630   \n",
       "marital    0.418494  0.381468  1.000000   0.257179  0.013131  0.000000   \n",
       "education  0.240274  0.673271  0.257179   1.000000  0.025280  0.000000   \n",
       "housing    0.000000  0.028369  0.013131   0.025280  1.000000  0.943155   \n",
       "loan       0.000000  0.022630  0.000000   0.000000  0.943155  1.000000   \n",
       "y          0.222166  0.188271  0.085282   0.091598  0.000000  0.000000   \n",
       "\n",
       "                  y  \n",
       "age        0.222166  \n",
       "job        0.188271  \n",
       "marital    0.085282  \n",
       "education  0.091598  \n",
       "housing    0.000000  \n",
       "loan       0.000000  \n",
       "y          1.000000  "
      ]
     },
     "execution_count": 20,
     "metadata": {},
     "output_type": "execute_result"
    }
   ],
   "source": [
    "# Step 2 - use phi_k coefficient to measure degree of association\n",
    "phik_overview = df[list(personal_columns)+['y']].phik_matrix(interval_cols=['age'])\n",
    "phik_overview"
   ]
  },
  {
   "cell_type": "code",
   "execution_count": 21,
   "metadata": {},
   "outputs": [
    {
     "data": {
      "text/plain": [
       "<AxesSubplot: >"
      ]
     },
     "execution_count": 21,
     "metadata": {},
     "output_type": "execute_result"
    },
    {
     "data": {
      "image/png": "[encoded data removed]",
      "text/plain": [
       "<Figure size 640x480 with 2 Axes>"
      ]
     },
     "metadata": {},
     "output_type": "display_data"
    }
   ],
   "source": [
    "sns.heatmap(phik_overview, annot=True)"
   ]
  },
  {
   "attachments": {},
   "cell_type": "markdown",
   "metadata": {},
   "source": [
    "There are no features that highly correllated with target ('y')  \n",
    "We have 3 relatively strong associations: (1) between education and job (0.67), (2) between job and age (0.52) and (3) marital and age (0.42)  \n",
    "We can experiment with excluding one of these features from dataset when training model  "
   ]
  },
  {
   "attachments": {},
   "cell_type": "markdown",
   "metadata": {},
   "source": [
    "Let's show the association between education and job"
   ]
  },
  {
   "cell_type": "code",
   "execution_count": 22,
   "metadata": {},
   "outputs": [
    {
     "data": {
      "text/plain": [
       "0                   basic.4y\n",
       "1        professional.course\n",
       "2        professional.course\n",
       "3          university.degree\n",
       "4                high.school\n",
       "                ...         \n",
       "28826    professional.course\n",
       "28827      university.degree\n",
       "28828      university.degree\n",
       "28829               basic.4y\n",
       "28830            high.school\n",
       "Name: education_ordered, Length: 28831, dtype: category\n",
       "Categories (8, object): ['unknown' < 'illiterate' < 'basic.4y' < 'basic.6y' < 'basic.9y' < 'high.school' < 'professional.course' < 'university.degree']"
      ]
     },
     "execution_count": 22,
     "metadata": {},
     "output_type": "execute_result"
    }
   ],
   "source": [
    "# converting `education` column to ordered categorical type to get ordered chart output\n",
    "education_ordered = ['unknown', 'illiterate', 'basic.4y', 'basic.6y', 'basic.9y', 'high.school', 'professional.course', 'university.degree']\n",
    "df['education_ordered'] = pd.Categorical(df['education'], education_ordered, ordered=True)\n",
    "df['education_ordered']"
   ]
  },
  {
   "cell_type": "code",
   "execution_count": 23,
   "metadata": {},
   "outputs": [
    {
     "name": "stderr",
     "output_type": "stream",
     "text": [
      "C:\\Users\\Дмитрий\\AppData\\Local\\Temp\\ipykernel_14772\\3322450664.py:4: UserWarning: FixedFormatter should only be used together with FixedLocator\n",
      "  ax.set_xticklabels(labels=[t.get_text() for t in ax.get_xticklabels()], ha='right', rotation=35);\n"
     ]
    },
    {
     "data": {
      "image/png": "[encoded data removed]",
      "text/plain": [
       "<Figure size 700x500 with 1 Axes>"
      ]
     },
     "metadata": {},
     "output_type": "display_data"
    }
   ],
   "source": [
    "# building 2-axis histogram (like heatmap)\n",
    "fig, ax = plt.subplots(1, 1, figsize=(7, 5))\n",
    "sns.histplot(data=df, x='job', y='education_ordered', ax=ax)\n",
    "ax.set_xticklabels(labels=[t.get_text() for t in ax.get_xticklabels()], ha='right', rotation=35);"
   ]
  },
  {
   "attachments": {},
   "cell_type": "markdown",
   "metadata": {},
   "source": [
    "Let's check age distribution for other categorical features values to get some insights"
   ]
  },
  {
   "cell_type": "code",
   "execution_count": 24,
   "metadata": {},
   "outputs": [
    {
     "data": {
      "image/png": "[encoded data removed]",
      "text/plain": [
       "<Figure size 640x480 with 1 Axes>"
      ]
     },
     "metadata": {},
     "output_type": "display_data"
    }
   ],
   "source": [
    "#fig, ax = plt.subplots(1, 1, figsize=(10, 7))\n",
    "sns.violinplot(data=df, x='job', y='age')\n",
    "plt.xticks(rotation=45, ha='right');"
   ]
  },
  {
   "attachments": {},
   "cell_type": "markdown",
   "metadata": {},
   "source": [
    "As expected 'retired' and 'student' classes distributions are shifted. But for others there is nothing unusual"
   ]
  },
  {
   "cell_type": "code",
   "execution_count": 50,
   "metadata": {},
   "outputs": [
    {
     "data": {
      "text/plain": [
       "([<matplotlib.axis.YTick at 0x2255a85bf10>,\n",
       "  <matplotlib.axis.YTick at 0x2255a873160>,\n",
       "  <matplotlib.axis.YTick at 0x2255a873670>,\n",
       "  <matplotlib.axis.YTick at 0x2255a8cab60>,\n",
       "  <matplotlib.axis.YTick at 0x2255a8cb610>,\n",
       "  <matplotlib.axis.YTick at 0x2255a8cb850>,\n",
       "  <matplotlib.axis.YTick at 0x2255a8cbf10>,\n",
       "  <matplotlib.axis.YTick at 0x2255a8f0a00>,\n",
       "  <matplotlib.axis.YTick at 0x2255a8f14b0>,\n",
       "  <matplotlib.axis.YTick at 0x2255a8f1f60>,\n",
       "  <matplotlib.axis.YTick at 0x2255a8f16f0>,\n",
       "  <matplotlib.axis.YTick at 0x2255a8f2980>,\n",
       "  <matplotlib.axis.YTick at 0x2255a8f3430>,\n",
       "  <matplotlib.axis.YTick at 0x2255a8f3ee0>,\n",
       "  <matplotlib.axis.YTick at 0x2255a904a00>,\n",
       "  <matplotlib.axis.YTick at 0x2255a8f0340>,\n",
       "  <matplotlib.axis.YTick at 0x2255a905300>,\n",
       "  <matplotlib.axis.YTick at 0x2255a905db0>,\n",
       "  <matplotlib.axis.YTick at 0x2255a906860>,\n",
       "  <matplotlib.axis.YTick at 0x2255a907310>,\n",
       "  <matplotlib.axis.YTick at 0x2255a905990>],\n",
       " [Text(0, 0, '0'),\n",
       "  Text(0, 5, '5'),\n",
       "  Text(0, 10, '10'),\n",
       "  Text(0, 15, '15'),\n",
       "  Text(0, 20, '20'),\n",
       "  Text(0, 25, '25'),\n",
       "  Text(0, 30, '30'),\n",
       "  Text(0, 35, '35'),\n",
       "  Text(0, 40, '40'),\n",
       "  Text(0, 45, '45'),\n",
       "  Text(0, 50, '50'),\n",
       "  Text(0, 55, '55'),\n",
       "  Text(0, 60, '60'),\n",
       "  Text(0, 65, '65'),\n",
       "  Text(0, 70, '70'),\n",
       "  Text(0, 75, '75'),\n",
       "  Text(0, 80, '80'),\n",
       "  Text(0, 85, '85'),\n",
       "  Text(0, 90, '90'),\n",
       "  Text(0, 95, '95'),\n",
       "  Text(0, 100, '100')])"
      ]
     },
     "execution_count": 50,
     "metadata": {},
     "output_type": "execute_result"
    },
    {
     "data": {
      "image/png": "[encoded data removed]",
      "text/plain": [
       "<Figure size 640x480 with 1 Axes>"
      ]
     },
     "metadata": {},
     "output_type": "display_data"
    }
   ],
   "source": [
    "sns.violinplot(data=df, x='marital', y='age')\n",
    "plt.yticks(range(0, 105, 5));"
   ]
  },
  {
   "attachments": {},
   "cell_type": "markdown",
   "metadata": {},
   "source": [
    "'unknown' value's distribution is multimodal. 1st mode is near equivalent of 'single' value's distribution one"
   ]
  },
  {
   "cell_type": "code",
   "execution_count": 59,
   "metadata": {},
   "outputs": [
    {
     "name": "stderr",
     "output_type": "stream",
     "text": [
      "C:\\Users\\Дмитрий\\AppData\\Local\\Temp\\ipykernel_14772\\3352124867.py:1: UserWarning: The palette list has more values (10) than needed (3), which may not be intended.\n",
      "  sns.displot(data=df[df['marital'] != cat_nan_equiv], x='age', hue='marital', kind='kde', palette=sns.color_palette('pastel'), fill=True);\n"
     ]
    },
    {
     "data": {
      "image/png": "[encoded data removed]",
      "text/plain": [
       "<Figure size 610x500 with 1 Axes>"
      ]
     },
     "metadata": {},
     "output_type": "display_data"
    }
   ],
   "source": [
    "sns.displot(data=df[df['marital'] != cat_nan_equiv], x='age', hue='marital', kind='kde', palette=sns.color_palette('pastel'), fill=True);"
   ]
  },
  {
   "attachments": {},
   "cell_type": "markdown",
   "metadata": {},
   "source": [
    "For analyzed pairs we can impute values based on corresponding features:  \n",
    "[PIPELINE]  \n",
    "(!!!) Age should be binned  \n",
    "Option 1:  \n",
    "1. Use KNN-imputing / Simple imputing  \n",
    "  \n",
    "Option 2:  \n",
    "1. Impute job and education (strongest association) based on most frequent corresponding values\n",
    "2. Impute job based on most frequent value for corresponding age bin\n",
    "3. Impute marital status based on most frequent value for corresponding age bin\n",
    "4. Impute NANs left using any strategy or model (KNNImputer?)"
   ]
  },
  {
   "cell_type": "code",
   "execution_count": 38,
   "metadata": {},
   "outputs": [],
   "source": [
    "\"\"\"\n",
    "Calculates most_frequent values of base_feat for each corresponding value of reference_feat\n",
    "Both features have to be categorical. If reference_feat is numerical it is possible to split it to bins\n",
    "and use function using bins instead of exact values \n",
    "Returns a dictionary with reference_value: base_value pairs made using most_frequent strategy\n",
    "\"\"\"\n",
    "def get_reference_values(df, base_feat, reference_feat, nan_equiv=np.nan):\n",
    "    is_numeric = True\n",
    "    try:\n",
    "        np.float64(nan_equiv)\n",
    "    except ValueError:\n",
    "        is_numeric = False\n",
    "    if is_numeric and np.isnan(nan_equiv):\n",
    "        ct = pd.crosstab(df[base_feat], df[reference_feat]) # rows = values of base feature, cols = values of reference feature\n",
    "    else:\n",
    "        ct = pd.crosstab(df.loc[(df[base_feat] != nan_equiv), base_feat], df[reference_feat])\n",
    "    index = ct.index\n",
    "    columns = ct.columns\n",
    "    return {columns[i]: index[val] for i, val in enumerate(ct.to_numpy().argmax(axis=0))}"
   ]
  },
  {
   "attachments": {},
   "cell_type": "markdown",
   "metadata": {},
   "source": [
    "Test for imputing education based on most frequent job"
   ]
  },
  {
   "cell_type": "code",
   "execution_count": 41,
   "metadata": {},
   "outputs": [
    {
     "data": {
      "text/html": [
       "<div>\n",
       "<style scoped>\n",
       "    .dataframe tbody tr th:only-of-type {\n",
       "        vertical-align: middle;\n",
       "    }\n",
       "\n",
       "    .dataframe tbody tr th {\n",
       "        vertical-align: top;\n",
       "    }\n",
       "\n",
       "    .dataframe thead th {\n",
       "        text-align: right;\n",
       "    }\n",
       "</style>\n",
       "<table border=\"1\" class=\"dataframe\">\n",
       "  <thead>\n",
       "    <tr style=\"text-align: right;\">\n",
       "      <th></th>\n",
       "      <th>education</th>\n",
       "      <th>job</th>\n",
       "    </tr>\n",
       "  </thead>\n",
       "  <tbody>\n",
       "    <tr>\n",
       "      <th>9</th>\n",
       "      <td>unknown</td>\n",
       "      <td>housemaid</td>\n",
       "    </tr>\n",
       "    <tr>\n",
       "      <th>19</th>\n",
       "      <td>unknown</td>\n",
       "      <td>blue-collar</td>\n",
       "    </tr>\n",
       "    <tr>\n",
       "      <th>28</th>\n",
       "      <td>unknown</td>\n",
       "      <td>housemaid</td>\n",
       "    </tr>\n",
       "    <tr>\n",
       "      <th>97</th>\n",
       "      <td>unknown</td>\n",
       "      <td>services</td>\n",
       "    </tr>\n",
       "    <tr>\n",
       "      <th>105</th>\n",
       "      <td>unknown</td>\n",
       "      <td>blue-collar</td>\n",
       "    </tr>\n",
       "    <tr>\n",
       "      <th>...</th>\n",
       "      <td>...</td>\n",
       "      <td>...</td>\n",
       "    </tr>\n",
       "    <tr>\n",
       "      <th>28684</th>\n",
       "      <td>unknown</td>\n",
       "      <td>admin.</td>\n",
       "    </tr>\n",
       "    <tr>\n",
       "      <th>28768</th>\n",
       "      <td>unknown</td>\n",
       "      <td>student</td>\n",
       "    </tr>\n",
       "    <tr>\n",
       "      <th>28794</th>\n",
       "      <td>unknown</td>\n",
       "      <td>technician</td>\n",
       "    </tr>\n",
       "    <tr>\n",
       "      <th>28797</th>\n",
       "      <td>unknown</td>\n",
       "      <td>blue-collar</td>\n",
       "    </tr>\n",
       "    <tr>\n",
       "      <th>28810</th>\n",
       "      <td>unknown</td>\n",
       "      <td>blue-collar</td>\n",
       "    </tr>\n",
       "  </tbody>\n",
       "</table>\n",
       "<p>1234 rows × 2 columns</p>\n",
       "</div>"
      ],
      "text/plain": [
       "      education          job\n",
       "9       unknown    housemaid\n",
       "19      unknown  blue-collar\n",
       "28      unknown    housemaid\n",
       "97      unknown     services\n",
       "105     unknown  blue-collar\n",
       "...         ...          ...\n",
       "28684   unknown       admin.\n",
       "28768   unknown      student\n",
       "28794   unknown   technician\n",
       "28797   unknown  blue-collar\n",
       "28810   unknown  blue-collar\n",
       "\n",
       "[1234 rows x 2 columns]"
      ]
     },
     "execution_count": 41,
     "metadata": {},
     "output_type": "execute_result"
    }
   ],
   "source": [
    "m = df['education'] == cat_nan_equiv\n",
    "df.loc[m, ['education', 'job']]"
   ]
  },
  {
   "cell_type": "code",
   "execution_count": 42,
   "metadata": {},
   "outputs": [],
   "source": [
    "df.loc[m, 'education'] = df.loc[m, 'job'].map(get_reference_values(df, 'education', 'job', nan_equiv='unknown'))"
   ]
  },
  {
   "cell_type": "code",
   "execution_count": 43,
   "metadata": {},
   "outputs": [
    {
     "data": {
      "text/html": [
       "<div>\n",
       "<style scoped>\n",
       "    .dataframe tbody tr th:only-of-type {\n",
       "        vertical-align: middle;\n",
       "    }\n",
       "\n",
       "    .dataframe tbody tr th {\n",
       "        vertical-align: top;\n",
       "    }\n",
       "\n",
       "    .dataframe thead th {\n",
       "        text-align: right;\n",
       "    }\n",
       "</style>\n",
       "<table border=\"1\" class=\"dataframe\">\n",
       "  <thead>\n",
       "    <tr style=\"text-align: right;\">\n",
       "      <th></th>\n",
       "      <th>education</th>\n",
       "      <th>job</th>\n",
       "    </tr>\n",
       "  </thead>\n",
       "  <tbody>\n",
       "    <tr>\n",
       "      <th>9</th>\n",
       "      <td>basic.4y</td>\n",
       "      <td>housemaid</td>\n",
       "    </tr>\n",
       "    <tr>\n",
       "      <th>19</th>\n",
       "      <td>basic.9y</td>\n",
       "      <td>blue-collar</td>\n",
       "    </tr>\n",
       "    <tr>\n",
       "      <th>28</th>\n",
       "      <td>basic.4y</td>\n",
       "      <td>housemaid</td>\n",
       "    </tr>\n",
       "    <tr>\n",
       "      <th>97</th>\n",
       "      <td>high.school</td>\n",
       "      <td>services</td>\n",
       "    </tr>\n",
       "    <tr>\n",
       "      <th>105</th>\n",
       "      <td>basic.9y</td>\n",
       "      <td>blue-collar</td>\n",
       "    </tr>\n",
       "    <tr>\n",
       "      <th>...</th>\n",
       "      <td>...</td>\n",
       "      <td>...</td>\n",
       "    </tr>\n",
       "    <tr>\n",
       "      <th>28684</th>\n",
       "      <td>university.degree</td>\n",
       "      <td>admin.</td>\n",
       "    </tr>\n",
       "    <tr>\n",
       "      <th>28768</th>\n",
       "      <td>high.school</td>\n",
       "      <td>student</td>\n",
       "    </tr>\n",
       "    <tr>\n",
       "      <th>28794</th>\n",
       "      <td>professional.course</td>\n",
       "      <td>technician</td>\n",
       "    </tr>\n",
       "    <tr>\n",
       "      <th>28797</th>\n",
       "      <td>basic.9y</td>\n",
       "      <td>blue-collar</td>\n",
       "    </tr>\n",
       "    <tr>\n",
       "      <th>28810</th>\n",
       "      <td>basic.9y</td>\n",
       "      <td>blue-collar</td>\n",
       "    </tr>\n",
       "  </tbody>\n",
       "</table>\n",
       "<p>1234 rows × 2 columns</p>\n",
       "</div>"
      ],
      "text/plain": [
       "                 education          job\n",
       "9                 basic.4y    housemaid\n",
       "19                basic.9y  blue-collar\n",
       "28                basic.4y    housemaid\n",
       "97             high.school     services\n",
       "105               basic.9y  blue-collar\n",
       "...                    ...          ...\n",
       "28684    university.degree       admin.\n",
       "28768          high.school      student\n",
       "28794  professional.course   technician\n",
       "28797             basic.9y  blue-collar\n",
       "28810             basic.9y  blue-collar\n",
       "\n",
       "[1234 rows x 2 columns]"
      ]
     },
     "execution_count": 43,
     "metadata": {},
     "output_type": "execute_result"
    }
   ],
   "source": [
    "df.loc[m, ['education', 'job']]"
   ]
  },
  {
   "attachments": {},
   "cell_type": "markdown",
   "metadata": {},
   "source": [
    "Test for imputing job based on most frequent education"
   ]
  },
  {
   "cell_type": "code",
   "execution_count": 44,
   "metadata": {},
   "outputs": [
    {
     "data": {
      "text/html": [
       "<div>\n",
       "<style scoped>\n",
       "    .dataframe tbody tr th:only-of-type {\n",
       "        vertical-align: middle;\n",
       "    }\n",
       "\n",
       "    .dataframe tbody tr th {\n",
       "        vertical-align: top;\n",
       "    }\n",
       "\n",
       "    .dataframe thead th {\n",
       "        text-align: right;\n",
       "    }\n",
       "</style>\n",
       "<table border=\"1\" class=\"dataframe\">\n",
       "  <thead>\n",
       "    <tr style=\"text-align: right;\">\n",
       "      <th></th>\n",
       "      <th>job</th>\n",
       "      <th>education</th>\n",
       "    </tr>\n",
       "  </thead>\n",
       "  <tbody>\n",
       "    <tr>\n",
       "      <th>20</th>\n",
       "      <td>unknown</td>\n",
       "      <td>high.school</td>\n",
       "    </tr>\n",
       "    <tr>\n",
       "      <th>142</th>\n",
       "      <td>unknown</td>\n",
       "      <td>university.degree</td>\n",
       "    </tr>\n",
       "    <tr>\n",
       "      <th>274</th>\n",
       "      <td>unknown</td>\n",
       "      <td>basic.4y</td>\n",
       "    </tr>\n",
       "    <tr>\n",
       "      <th>325</th>\n",
       "      <td>unknown</td>\n",
       "      <td>basic.4y</td>\n",
       "    </tr>\n",
       "    <tr>\n",
       "      <th>367</th>\n",
       "      <td>unknown</td>\n",
       "      <td>high.school</td>\n",
       "    </tr>\n",
       "    <tr>\n",
       "      <th>...</th>\n",
       "      <td>...</td>\n",
       "      <td>...</td>\n",
       "    </tr>\n",
       "    <tr>\n",
       "      <th>28177</th>\n",
       "      <td>unknown</td>\n",
       "      <td>basic.4y</td>\n",
       "    </tr>\n",
       "    <tr>\n",
       "      <th>28381</th>\n",
       "      <td>unknown</td>\n",
       "      <td>basic.4y</td>\n",
       "    </tr>\n",
       "    <tr>\n",
       "      <th>28483</th>\n",
       "      <td>unknown</td>\n",
       "      <td>basic.4y</td>\n",
       "    </tr>\n",
       "    <tr>\n",
       "      <th>28540</th>\n",
       "      <td>unknown</td>\n",
       "      <td>high.school</td>\n",
       "    </tr>\n",
       "    <tr>\n",
       "      <th>28788</th>\n",
       "      <td>unknown</td>\n",
       "      <td>university.degree</td>\n",
       "    </tr>\n",
       "  </tbody>\n",
       "</table>\n",
       "<p>240 rows × 2 columns</p>\n",
       "</div>"
      ],
      "text/plain": [
       "           job          education\n",
       "20     unknown        high.school\n",
       "142    unknown  university.degree\n",
       "274    unknown           basic.4y\n",
       "325    unknown           basic.4y\n",
       "367    unknown        high.school\n",
       "...        ...                ...\n",
       "28177  unknown           basic.4y\n",
       "28381  unknown           basic.4y\n",
       "28483  unknown           basic.4y\n",
       "28540  unknown        high.school\n",
       "28788  unknown  university.degree\n",
       "\n",
       "[240 rows x 2 columns]"
      ]
     },
     "execution_count": 44,
     "metadata": {},
     "output_type": "execute_result"
    }
   ],
   "source": [
    "m = df['job'] == cat_nan_equiv\n",
    "df.loc[m, ['job', 'education']]"
   ]
  },
  {
   "cell_type": "code",
   "execution_count": 45,
   "metadata": {},
   "outputs": [
    {
     "data": {
      "text/html": [
       "<div>\n",
       "<style scoped>\n",
       "    .dataframe tbody tr th:only-of-type {\n",
       "        vertical-align: middle;\n",
       "    }\n",
       "\n",
       "    .dataframe tbody tr th {\n",
       "        vertical-align: top;\n",
       "    }\n",
       "\n",
       "    .dataframe thead th {\n",
       "        text-align: right;\n",
       "    }\n",
       "</style>\n",
       "<table border=\"1\" class=\"dataframe\">\n",
       "  <thead>\n",
       "    <tr style=\"text-align: right;\">\n",
       "      <th></th>\n",
       "      <th>job</th>\n",
       "      <th>education</th>\n",
       "    </tr>\n",
       "  </thead>\n",
       "  <tbody>\n",
       "    <tr>\n",
       "      <th>20</th>\n",
       "      <td>admin.</td>\n",
       "      <td>high.school</td>\n",
       "    </tr>\n",
       "    <tr>\n",
       "      <th>142</th>\n",
       "      <td>admin.</td>\n",
       "      <td>university.degree</td>\n",
       "    </tr>\n",
       "    <tr>\n",
       "      <th>274</th>\n",
       "      <td>blue-collar</td>\n",
       "      <td>basic.4y</td>\n",
       "    </tr>\n",
       "    <tr>\n",
       "      <th>325</th>\n",
       "      <td>blue-collar</td>\n",
       "      <td>basic.4y</td>\n",
       "    </tr>\n",
       "    <tr>\n",
       "      <th>367</th>\n",
       "      <td>admin.</td>\n",
       "      <td>high.school</td>\n",
       "    </tr>\n",
       "    <tr>\n",
       "      <th>...</th>\n",
       "      <td>...</td>\n",
       "      <td>...</td>\n",
       "    </tr>\n",
       "    <tr>\n",
       "      <th>28177</th>\n",
       "      <td>blue-collar</td>\n",
       "      <td>basic.4y</td>\n",
       "    </tr>\n",
       "    <tr>\n",
       "      <th>28381</th>\n",
       "      <td>blue-collar</td>\n",
       "      <td>basic.4y</td>\n",
       "    </tr>\n",
       "    <tr>\n",
       "      <th>28483</th>\n",
       "      <td>blue-collar</td>\n",
       "      <td>basic.4y</td>\n",
       "    </tr>\n",
       "    <tr>\n",
       "      <th>28540</th>\n",
       "      <td>admin.</td>\n",
       "      <td>high.school</td>\n",
       "    </tr>\n",
       "    <tr>\n",
       "      <th>28788</th>\n",
       "      <td>admin.</td>\n",
       "      <td>university.degree</td>\n",
       "    </tr>\n",
       "  </tbody>\n",
       "</table>\n",
       "<p>240 rows × 2 columns</p>\n",
       "</div>"
      ],
      "text/plain": [
       "               job          education\n",
       "20          admin.        high.school\n",
       "142         admin.  university.degree\n",
       "274    blue-collar           basic.4y\n",
       "325    blue-collar           basic.4y\n",
       "367         admin.        high.school\n",
       "...            ...                ...\n",
       "28177  blue-collar           basic.4y\n",
       "28381  blue-collar           basic.4y\n",
       "28483  blue-collar           basic.4y\n",
       "28540       admin.        high.school\n",
       "28788       admin.  university.degree\n",
       "\n",
       "[240 rows x 2 columns]"
      ]
     },
     "execution_count": 45,
     "metadata": {},
     "output_type": "execute_result"
    }
   ],
   "source": [
    "df.loc[m, 'job'] = df.loc[m, 'education'].map(get_reference_values(df, base_feat='job', reference_feat='education', nan_equiv='unknown'))\n",
    "df.loc[m, ['job', 'education']]"
   ]
  },
  {
   "attachments": {},
   "cell_type": "markdown",
   "metadata": {},
   "source": [
    "To impute marital status based on age it's necessary to split age feature to bins"
   ]
  },
  {
   "cell_type": "code",
   "execution_count": 60,
   "metadata": {},
   "outputs": [
    {
     "data": {
      "text/plain": [
       "<AxesSubplot: xlabel='age', ylabel='Count'>"
      ]
     },
     "execution_count": 60,
     "metadata": {},
     "output_type": "execute_result"
    },
    {
     "data": {
      "image/png": "[encoded data removed]",
      "text/plain": [
       "<Figure size 640x480 with 1 Axes>"
      ]
     },
     "metadata": {},
     "output_type": "display_data"
    }
   ],
   "source": [
    "sns.histplot(data=df, x='age')"
   ]
  },
  {
   "cell_type": "code",
   "execution_count": 68,
   "metadata": {},
   "outputs": [],
   "source": [
    "# splitting age to bins\n",
    "# equal bins defined by total number\n",
    "#bins = 10\n",
    "bins = pd.IntervalIndex.from_breaks(np.arange(15, 100, 10))\n",
    "df['age_bins'] = pd.cut(df['age'], bins=bins)"
   ]
  },
  {
   "cell_type": "code",
   "execution_count": 69,
   "metadata": {},
   "outputs": [],
   "source": [
    "age_grouper = df.groupby('age_bins')"
   ]
  },
  {
   "cell_type": "code",
   "execution_count": 70,
   "metadata": {},
   "outputs": [
    {
     "data": {
      "text/plain": [
       "age_bins\n",
       "(15, 25]     4.078943\n",
       "(25, 35]    36.124311\n",
       "(35, 45]    30.973605\n",
       "(45, 55]    20.176199\n",
       "(55, 65]     7.165898\n",
       "(65, 75]     0.919150\n",
       "(75, 85]     0.482120\n",
       "(85, 95]     0.076307\n",
       "Name: age, dtype: float64"
      ]
     },
     "execution_count": 70,
     "metadata": {},
     "output_type": "execute_result"
    }
   ],
   "source": [
    "age_grouper['age'].count() * 100 / len(df)"
   ]
  },
  {
   "cell_type": "code",
   "execution_count": 71,
   "metadata": {},
   "outputs": [
    {
     "data": {
      "text/plain": [
       "(feature\n",
       " (15, 25]    0.684230\n",
       " (25, 35]    0.054106\n",
       " (35, 45]   -0.333015\n",
       " (45, 55]   -0.249489\n",
       " (55, 65]    0.329375\n",
       " (65, 75]    1.625921\n",
       " (75, 85]    1.880634\n",
       " (85, 95]    1.397565\n",
       " Name: woe, dtype: float64,\n",
       " 0.16638931807570645)"
      ]
     },
     "execution_count": 71,
     "metadata": {},
     "output_type": "execute_result"
    }
   ],
   "source": [
    "get_woe_cat(df['age_bins'], df['y'])"
   ]
  },
  {
   "cell_type": "code",
   "execution_count": 26,
   "metadata": {},
   "outputs": [
    {
     "data": {
      "text/plain": [
       "187      married\n",
       "1219     married\n",
       "1316     married\n",
       "1824     married\n",
       "2011     married\n",
       "3132     married\n",
       "3536     married\n",
       "4405     married\n",
       "4628     married\n",
       "5244     married\n",
       "5383     married\n",
       "6368     married\n",
       "7398     married\n",
       "7543     married\n",
       "8185     married\n",
       "8204     married\n",
       "9144     married\n",
       "9650     married\n",
       "9686     married\n",
       "9701     married\n",
       "10142    married\n",
       "10211    married\n",
       "10276    married\n",
       "10481    married\n",
       "10494    married\n",
       "10815    married\n",
       "11201    married\n",
       "11397    married\n",
       "11798    married\n",
       "12700    married\n",
       "13804    married\n",
       "14026    married\n",
       "15441    married\n",
       "15487    married\n",
       "15619    married\n",
       "15927    married\n",
       "16011    married\n",
       "16680    married\n",
       "16878    married\n",
       "17890    married\n",
       "18177    married\n",
       "18179    married\n",
       "19743    married\n",
       "21149    married\n",
       "21202    married\n",
       "21474    married\n",
       "21794    married\n",
       "21907    married\n",
       "23105    married\n",
       "23622    married\n",
       "24567    married\n",
       "24774    married\n",
       "24908    married\n",
       "24963    married\n",
       "26798    married\n",
       "27702    married\n",
       "27992    married\n",
       "28650    married\n",
       "Name: marital, dtype: object"
      ]
     },
     "execution_count": 26,
     "metadata": {},
     "output_type": "execute_result"
    }
   ],
   "source": [
    "# imputation for marital\n",
    "m = df['marital'] == cat_nan_equiv\n",
    "smp_marital = SimpleImputer(missing_values=cat_nan_equiv, strategy='most_frequent')\n",
    "df['marital'] = smp_marital.fit_transform(df['marital'].to_numpy().reshape(-1, 1))\n",
    "df.loc[m, 'marital']"
   ]
  },
  {
   "cell_type": "code",
   "execution_count": 29,
   "metadata": {},
   "outputs": [
    {
     "data": {
      "text/plain": [
       "<AxesSubplot: >"
      ]
     },
     "execution_count": 29,
     "metadata": {},
     "output_type": "execute_result"
    },
    {
     "data": {
      "image/png": "[encoded data removed]",
      "text/plain": [
       "<Figure size 640x480 with 2 Axes>"
      ]
     },
     "metadata": {},
     "output_type": "display_data"
    }
   ],
   "source": [
    "# check the correlation between socioeconomic features\n",
    "soc_econ_features = ['emp.var.rate', 'cons.price.idx', 'cons.conf.idx', 'euribor3m', 'nr.employed']\n",
    "m_corr = df[soc_econ_features].corr()\n",
    "sns.heatmap(m_corr, annot=True)"
   ]
  },
  {
   "attachments": {},
   "cell_type": "markdown",
   "metadata": {},
   "source": [
    "We have highly correlated features. This might be a problem for some ML models. Possibly we will have to drop some of them depending on the chosen model."
   ]
  },
  {
   "attachments": {},
   "cell_type": "markdown",
   "metadata": {},
   "source": [
    "[PIPELINE]\n",
    "1. Possibly drop one or more soc_econ columns due to high correlation (test what columns are more important to model)"
   ]
  },
  {
   "attachments": {},
   "cell_type": "markdown",
   "metadata": {},
   "source": [
    "### 4. `loan` and `housing` features"
   ]
  },
  {
   "attachments": {},
   "cell_type": "markdown",
   "metadata": {},
   "source": [
    "Although these features are considered useless we will keep them for now and see if they really will not help model to predict"
   ]
  },
  {
   "cell_type": "code",
   "execution_count": 30,
   "metadata": {},
   "outputs": [
    {
     "data": {
      "text/html": [
       "<div>\n",
       "<style scoped>\n",
       "    .dataframe tbody tr th:only-of-type {\n",
       "        vertical-align: middle;\n",
       "    }\n",
       "\n",
       "    .dataframe tbody tr th {\n",
       "        vertical-align: top;\n",
       "    }\n",
       "\n",
       "    .dataframe thead th {\n",
       "        text-align: right;\n",
       "    }\n",
       "</style>\n",
       "<table border=\"1\" class=\"dataframe\">\n",
       "  <thead>\n",
       "    <tr style=\"text-align: right;\">\n",
       "      <th>housing</th>\n",
       "      <th>no</th>\n",
       "      <th>unknown</th>\n",
       "      <th>yes</th>\n",
       "      <th>All</th>\n",
       "    </tr>\n",
       "    <tr>\n",
       "      <th>loan</th>\n",
       "      <th></th>\n",
       "      <th></th>\n",
       "      <th></th>\n",
       "      <th></th>\n",
       "    </tr>\n",
       "  </thead>\n",
       "  <tbody>\n",
       "    <tr>\n",
       "      <th>no</th>\n",
       "      <td>11208</td>\n",
       "      <td>0</td>\n",
       "      <td>12493</td>\n",
       "      <td>23701</td>\n",
       "    </tr>\n",
       "    <tr>\n",
       "      <th>unknown</th>\n",
       "      <td>0</td>\n",
       "      <td>707</td>\n",
       "      <td>0</td>\n",
       "      <td>707</td>\n",
       "    </tr>\n",
       "    <tr>\n",
       "      <th>yes</th>\n",
       "      <td>1805</td>\n",
       "      <td>0</td>\n",
       "      <td>2618</td>\n",
       "      <td>4423</td>\n",
       "    </tr>\n",
       "    <tr>\n",
       "      <th>All</th>\n",
       "      <td>13013</td>\n",
       "      <td>707</td>\n",
       "      <td>15111</td>\n",
       "      <td>28831</td>\n",
       "    </tr>\n",
       "  </tbody>\n",
       "</table>\n",
       "</div>"
      ],
      "text/plain": [
       "housing     no  unknown    yes    All\n",
       "loan                                 \n",
       "no       11208        0  12493  23701\n",
       "unknown      0      707      0    707\n",
       "yes       1805        0   2618   4423\n",
       "All      13013      707  15111  28831"
      ]
     },
     "execution_count": 30,
     "metadata": {},
     "output_type": "execute_result"
    }
   ],
   "source": [
    "pd.crosstab(df['loan'].fillna('missing'), df['housing'].fillna('missing'), margins=True)"
   ]
  },
  {
   "attachments": {},
   "cell_type": "markdown",
   "metadata": {},
   "source": [
    "These 707 'unknown' values are shared indeed. These features may correspond with age (housing loans might be paid off by elders) / job (due to bank's processes of credit scoring) / education / marital status"
   ]
  },
  {
   "cell_type": "code",
   "execution_count": 32,
   "metadata": {},
   "outputs": [
    {
     "data": {
      "image/png": "[encoded data removed]",
      "text/plain": [
       "<Figure size 1000x2000 with 8 Axes>"
      ]
     },
     "metadata": {},
     "output_type": "display_data"
    }
   ],
   "source": [
    "x_features = ['age_bins', 'age_bins', 'job', 'job', 'marital', 'marital', 'education', 'education']\n",
    "y_features = ['housing', 'loan', 'housing', 'loan', 'housing', 'loan', 'housing', 'loan']\n",
    "\n",
    "chart_rows, charts_per_row = 4, 2\n",
    "sns.set_palette('pastel')\n",
    "fig, axs = plt.subplots(chart_rows, charts_per_row, figsize=(5*charts_per_row,  5*chart_rows))\n",
    "\n",
    "for ax, x_feature, y_feature in zip(axs.flatten(), x_features, y_features):\n",
    "    ct = pd.crosstab(df[x_feature], df[y_feature])\n",
    "\n",
    "    ax.bar(x=[x+0.1 for x in range(len(ct))], height=ct['yes'], width=0.7, label='yes')\n",
    "    ax.bar(x=[x-0.1 for x in range(len(ct))], height=ct['no'], width=0.7, alpha=0.7, label='no')\n",
    "    ax.set_xticks(range(len(ct)))\n",
    "    ax.set_xticklabels([str(x) for x in ct.index], fontsize=7, rotation=30, ha='right')\n",
    "    ax.set_xlabel(x_feature)\n",
    "    ax.set_ylabel(y_feature)\n",
    "    ax.legend()\n",
    "    ax.set_title(f'Relation between `{x_feature}` and `{y_feature}` features', fontsize=9)\n",
    "plt.tight_layout();"
   ]
  },
  {
   "attachments": {},
   "cell_type": "markdown",
   "metadata": {},
   "source": [
    "[PIPELINE]  \n",
    "Option 1: Impute missing values using following default values: 'yes' for `housing` feature and 'no' for `loan` feature as these values are observed across all individual features  \n",
    "Option 2: Replace values in feature by WoE values using 'unknown' values as separate group"
   ]
  },
  {
   "cell_type": "code",
   "execution_count": 33,
   "metadata": {},
   "outputs": [
    {
     "data": {
      "text/plain": [
       "56       unknown\n",
       "96       unknown\n",
       "137      unknown\n",
       "138      unknown\n",
       "227      unknown\n",
       "          ...   \n",
       "28701    unknown\n",
       "28734    unknown\n",
       "28750    unknown\n",
       "28785    unknown\n",
       "28788    unknown\n",
       "Name: housing, Length: 707, dtype: object"
      ]
     },
     "execution_count": 33,
     "metadata": {},
     "output_type": "execute_result"
    }
   ],
   "source": [
    "# option 1\n",
    "feat = 'housing'\n",
    "m = (df[feat] == 'unknown') # boolean mask to filter rows\n",
    "df.loc[m, feat]"
   ]
  },
  {
   "cell_type": "code",
   "execution_count": 34,
   "metadata": {},
   "outputs": [
    {
     "data": {
      "text/plain": [
       "56       yes\n",
       "96       yes\n",
       "137      yes\n",
       "138      yes\n",
       "227      yes\n",
       "        ... \n",
       "28701    yes\n",
       "28734    yes\n",
       "28750    yes\n",
       "28785    yes\n",
       "28788    yes\n",
       "Name: housing, Length: 707, dtype: object"
      ]
     },
     "execution_count": 34,
     "metadata": {},
     "output_type": "execute_result"
    }
   ],
   "source": [
    "df.loc[m, feat] = 'yes'\n",
    "df.loc[m, feat]"
   ]
  },
  {
   "attachments": {},
   "cell_type": "markdown",
   "metadata": {},
   "source": [
    "Now we have all 'unknown' replaced with 'yes' in `housing`. Let's do the same for `loan` but with 'no' value"
   ]
  },
  {
   "cell_type": "code",
   "execution_count": 35,
   "metadata": {},
   "outputs": [
    {
     "data": {
      "text/plain": [
       "56       no\n",
       "96       no\n",
       "137      no\n",
       "138      no\n",
       "227      no\n",
       "         ..\n",
       "28701    no\n",
       "28734    no\n",
       "28750    no\n",
       "28785    no\n",
       "28788    no\n",
       "Name: loan, Length: 707, dtype: object"
      ]
     },
     "execution_count": 35,
     "metadata": {},
     "output_type": "execute_result"
    }
   ],
   "source": [
    "feat = 'loan'\n",
    "m = (df[feat] == 'unknown') # boolean mask to filter rows\n",
    "df.loc[m, feat] = 'no'\n",
    "df.loc[m, feat]"
   ]
  },
  {
   "attachments": {},
   "cell_type": "markdown",
   "metadata": {},
   "source": [
    "### 5. `contact` feature"
   ]
  },
  {
   "attachments": {},
   "cell_type": "markdown",
   "metadata": {},
   "source": [
    "\n",
    "`contact` feature can be one-hot encoded with 1 column (check if this feature contains useful info for model)"
   ]
  },
  {
   "cell_type": "code",
   "execution_count": 36,
   "metadata": {},
   "outputs": [
    {
     "data": {
      "text/plain": [
       "cellular     18302\n",
       "telephone    10529\n",
       "Name: contact, dtype: int64"
      ]
     },
     "execution_count": 36,
     "metadata": {},
     "output_type": "execute_result"
    }
   ],
   "source": [
    "df['contact'].value_counts(dropna=False)"
   ]
  },
  {
   "cell_type": "code",
   "execution_count": 37,
   "metadata": {},
   "outputs": [
    {
     "data": {
      "text/plain": [
       "1.0    18302\n",
       "0.0    10529\n",
       "Name: contact, dtype: int64"
      ]
     },
     "execution_count": 37,
     "metadata": {},
     "output_type": "execute_result"
    }
   ],
   "source": [
    "# converting to binary integer 'Cellular or not' \n",
    "df['contact'] = df['contact'].map({'cellular': 1.0, 'telephone': 0.0})\n",
    "df['contact'].value_counts()"
   ]
  },
  {
   "attachments": {},
   "cell_type": "markdown",
   "metadata": {},
   "source": [
    "[PIPELINE]  \n",
    "Option 1: Convert `contact` feature to one-hot encoded form by replacing 'cellular' with 1.0 and 'telephone' with 0.0  \n",
    "Option 2: Replace values to WoE estimates"
   ]
  },
  {
   "attachments": {},
   "cell_type": "markdown",
   "metadata": {},
   "source": [
    "### 6. Assumption checked (see 1_...ipynb and comment in cell 7 above)"
   ]
  },
  {
   "attachments": {},
   "cell_type": "markdown",
   "metadata": {},
   "source": [
    "### 7. `day_of_week` feature"
   ]
  },
  {
   "cell_type": "code",
   "execution_count": 38,
   "metadata": {},
   "outputs": [
    {
     "name": "stdout",
     "output_type": "stream",
     "text": [
      "Information Value: 0.0034 (useless)\n"
     ]
    },
    {
     "data": {
      "text/plain": [
       "feature\n",
       "fri   -0.014867\n",
       "mon   -0.104080\n",
       "thu    0.065041\n",
       "tue    0.014815\n",
       "wed    0.033534\n",
       "Name: woe, dtype: float64"
      ]
     },
     "execution_count": 38,
     "metadata": {},
     "output_type": "execute_result"
    }
   ],
   "source": [
    "woe, iv = get_woe_cat(df['day_of_week'], df['y'])\n",
    "print('Information Value: {:.4f} ({})'.format(iv, interpret_iv(iv)))\n",
    "woe"
   ]
  },
  {
   "cell_type": "code",
   "execution_count": 39,
   "metadata": {},
   "outputs": [
    {
     "data": {
      "image/png": "[encoded data removed]",
      "text/plain": [
       "<Figure size 700x500 with 1 Axes>"
      ]
     },
     "metadata": {},
     "output_type": "display_data"
    }
   ],
   "source": [
    "sorted_dow = ['mon', 'tue', 'wed', 'thu', 'fri']\n",
    "fig, ax = plt.subplots(1, 1, figsize=(7, 5))\n",
    "ct = pd.crosstab(df['day_of_week'], df['y'])\n",
    "ax.bar(x=[x+0.1 for x in range(len(sorted_dow))], height=[ct.loc[x, target_positive] for x in sorted_dow], width=0.7, label='yes')\n",
    "ax.bar(x=[x-0.1 for x in range(len(sorted_dow))], height=[ct.loc[x, target_negative] for x in sorted_dow], width=0.7, alpha=0.7, label='no')\n",
    "ax.set_xticks(range(len(ct)))\n",
    "ax.set_xticklabels(sorted_dow)\n",
    "ax.set_title('Distribution of the target variable by day of the week')\n",
    "ax.legend();"
   ]
  },
  {
   "attachments": {},
   "cell_type": "markdown",
   "metadata": {},
   "source": [
    "There are small variations between days but it will be better to test experimentally if this feature is useful for model  \n",
    "  \n",
    "[PIPELINE]  \n",
    "Option 1: Map ['mon', 'tue', 'wed', 'thu', 'fri'] => [1, 2, 3, 4, 5]  \n",
    "Option 2: Replace with WoE estimates"
   ]
  },
  {
   "attachments": {},
   "cell_type": "markdown",
   "metadata": {},
   "source": [
    "### 8. `campaign` feature"
   ]
  },
  {
   "attachments": {},
   "cell_type": "markdown",
   "metadata": {},
   "source": [
    "Reminder: `campaign` - number of contacts performed during this campaign and for this client (numeric, includes last contact)  \n",
    "`campaign` feature skewed (long right tail) should be cutted based on 1.5*IQR"
   ]
  },
  {
   "cell_type": "code",
   "execution_count": 40,
   "metadata": {},
   "outputs": [
    {
     "name": "stdout",
     "output_type": "stream",
     "text": [
      "Information Value: 0.0485 (weak)\n"
     ]
    },
    {
     "data": {
      "text/plain": [
       "feature\n",
       "1     0.145492\n",
       "2     0.046585\n",
       "3    -0.041643\n",
       "4    -0.201180\n",
       "5    -0.466088\n",
       "6    -0.282854\n",
       "7    -0.568323\n",
       "8    -0.961655\n",
       "9    -0.702145\n",
       "10   -0.559470\n",
       "11   -0.525961\n",
       "12   -1.049658\n",
       "13   -0.599016\n",
       "14   -1.056486\n",
       "15   -0.365635\n",
       "16   -0.910418\n",
       "17   -0.446216\n",
       "18   -0.641346\n",
       "19   -0.461421\n",
       "20   -0.599308\n",
       "21   -0.485763\n",
       "22   -0.384624\n",
       "23   -0.329940\n",
       "24   -0.357656\n",
       "25   -0.178516\n",
       "26   -0.241863\n",
       "27   -0.301434\n",
       "28   -0.178516\n",
       "29   -0.210691\n",
       "30   -0.178516\n",
       "31   -0.178516\n",
       "32   -0.075272\n",
       "33   -0.110884\n",
       "34   -0.038344\n",
       "35   -0.145272\n",
       "37   -0.038344\n",
       "40   -0.038344\n",
       "42   -0.075272\n",
       "43   -0.075272\n",
       "56   -0.038344\n",
       "Name: woe, dtype: float64"
      ]
     },
     "execution_count": 40,
     "metadata": {},
     "output_type": "execute_result"
    }
   ],
   "source": [
    "# check predictive power for initial feature based on WOE/IV\n",
    "woe, iv = get_woe_cat(df['campaign'], df['y'])\n",
    "print('Information Value: {:.4f} ({})'.format(iv, interpret_iv(iv)))"
   ]
  },
  {
   "cell_type": "code",
   "execution_count": 41,
   "metadata": {},
   "outputs": [
    {
     "data": {
      "text/plain": [
       "count    28831.000000\n",
       "mean         2.557490\n",
       "std          2.753098\n",
       "min          1.000000\n",
       "25%          1.000000\n",
       "50%          2.000000\n",
       "75%          3.000000\n",
       "max         56.000000\n",
       "Name: campaign, dtype: float64"
      ]
     },
     "execution_count": 41,
     "metadata": {},
     "output_type": "execute_result"
    }
   ],
   "source": [
    "df['campaign'].describe()"
   ]
  },
  {
   "cell_type": "code",
   "execution_count": 42,
   "metadata": {},
   "outputs": [
    {
     "data": {
      "text/plain": [
       "<AxesSubplot: >"
      ]
     },
     "execution_count": 42,
     "metadata": {},
     "output_type": "execute_result"
    },
    {
     "data": {
      "image/png": "[encoded data removed]",
      "text/plain": [
       "<Figure size 640x480 with 1 Axes>"
      ]
     },
     "metadata": {},
     "output_type": "display_data"
    }
   ],
   "source": [
    "# check distribution by histogram\n",
    "df['campaign'].hist()"
   ]
  },
  {
   "cell_type": "code",
   "execution_count": 43,
   "metadata": {},
   "outputs": [
    {
     "data": {
      "text/plain": [
       "<AxesSubplot: xlabel='campaign'>"
      ]
     },
     "execution_count": 43,
     "metadata": {},
     "output_type": "execute_result"
    },
    {
     "data": {
      "image/png": "[encoded data removed]",
      "text/plain": [
       "<Figure size 640x480 with 1 Axes>"
      ]
     },
     "metadata": {},
     "output_type": "display_data"
    }
   ],
   "source": [
    "# check distribution by boxplot + identifying outliers\n",
    "sns.boxplot(data=df, x='campaign')"
   ]
  },
  {
   "cell_type": "code",
   "execution_count": 44,
   "metadata": {},
   "outputs": [
    {
     "name": "stdout",
     "output_type": "stream",
     "text": [
      "Q1  = 1.0\n",
      "Q3  = 3.0\n",
      "IQR = 2.0\n",
      "Cutoff value: 6.0\n"
     ]
    }
   ],
   "source": [
    "# consider outliers as values > Q3 + 1.5*IQR\n",
    "q1 = df['campaign'].quantile(0.25)\n",
    "q3 = df['campaign'].quantile(0.75)\n",
    "iqr = q3 - q1\n",
    "cutoff_val = q3 + 1.5 * iqr\n",
    "print(f'Q1  = {q1}')\n",
    "print(f'Q3  = {q3}')\n",
    "print(f'IQR = {iqr}')\n",
    "print(f'Cutoff value: {cutoff_val}')\n",
    "# df[df['campaign'] > cutoff_val]['campaign'] # to show outliers"
   ]
  },
  {
   "cell_type": "code",
   "execution_count": 45,
   "metadata": {},
   "outputs": [
    {
     "name": "stdout",
     "output_type": "stream",
     "text": [
      "yes/no ratio for `campaign` values\n",
      "1.0: 0.147\n",
      "2.0: 0.133\n",
      "3.0: 0.122\n",
      "4.0: 0.103\n",
      "5.0: 0.078\n",
      "6.0: 0.060\n"
     ]
    },
    {
     "data": {
      "image/png": "[encoded data removed]",
      "text/plain": [
       "<Figure size 1400x500 with 2 Axes>"
      ]
     },
     "metadata": {},
     "output_type": "display_data"
    }
   ],
   "source": [
    "fig, ax = plt.subplots(1, 2, figsize=(14,5), sharey=True)\n",
    "ct = pd.crosstab(df['campaign'], df['y'])\n",
    "ax[0].bar(x=[x+0.1 for x in range(len(ct.index))], height=ct[target_positive], width=0.7, label='yes')\n",
    "ax[0].bar(x=[x-0.1 for x in range(len(ct.index))], height=ct[target_negative], width=0.7, alpha=0.7, label='no')\n",
    "ax[0].set_xticks(range(len(ct)))\n",
    "ax[0].set_xticklabels(ct.index)\n",
    "ax[0].legend()\n",
    "ax[0].set_title('before cutoff')\n",
    "\n",
    "ct = pd.crosstab(df['campaign'].apply(lambda x: np.min([x, cutoff_val])), df['y'])\n",
    "ax[1].bar(x=[x+0.1 for x in range(len(ct.index))], height=ct[target_positive], width=0.7, label='yes')\n",
    "ax[1].bar(x=[x-0.1 for x in range(len(ct.index))], height=ct[target_negative], width=0.7, alpha=0.7, label='no')\n",
    "ax[1].set_xticks(range(len(ct)))\n",
    "ax[1].set_xticklabels(ct.index)\n",
    "ax[1].legend()\n",
    "ax[1].set_title('after cutoff')\n",
    "fig.suptitle('Distribution of target variable by `campaign` feature before and after cutoff')\n",
    "fig.tight_layout();\n",
    "print('yes/no ratio for `campaign` values')\n",
    "# yes / no values ratio for information\n",
    "for x in ct.index:\n",
    "    print('{}: {:.3f}'.format(x, ct.loc[x, 1]/ct.loc[x, 0]))"
   ]
  },
  {
   "cell_type": "code",
   "execution_count": 46,
   "metadata": {},
   "outputs": [],
   "source": [
    "# performing real cutoff to dataset\n",
    "df['campaign'] = df['campaign'].apply(lambda x: np.min([x, cutoff_val]))"
   ]
  },
  {
   "cell_type": "code",
   "execution_count": 47,
   "metadata": {},
   "outputs": [
    {
     "name": "stdout",
     "output_type": "stream",
     "text": [
      "Information Value: 0.0535 (weak)\n"
     ]
    },
    {
     "data": {
      "text/plain": [
       "feature\n",
       "1.0    0.145492\n",
       "2.0    0.046585\n",
       "3.0   -0.041643\n",
       "4.0   -0.201180\n",
       "5.0   -0.466088\n",
       "6.0   -0.737225\n",
       "Name: woe, dtype: float64"
      ]
     },
     "execution_count": 47,
     "metadata": {},
     "output_type": "execute_result"
    }
   ],
   "source": [
    "# check predictive power for cutted feature based on WOE/IV\n",
    "woe, iv = get_woe_cat(df['campaign'], df['y'])\n",
    "print('Information Value: {:.4f} ({})'.format(iv, interpret_iv(iv)))\n",
    "woe"
   ]
  },
  {
   "cell_type": "code",
   "execution_count": 48,
   "metadata": {},
   "outputs": [
    {
     "data": {
      "text/plain": [
       "<AxesSubplot: xlabel='feature', ylabel='woe'>"
      ]
     },
     "execution_count": 48,
     "metadata": {},
     "output_type": "execute_result"
    },
    {
     "data": {
      "image/png": "[encoded data removed]",
      "text/plain": [
       "<Figure size 640x480 with 1 Axes>"
      ]
     },
     "metadata": {},
     "output_type": "display_data"
    }
   ],
   "source": [
    "# check monotonity\n",
    "sns.scatterplot(data=woe.reset_index(), x='feature', y='woe')"
   ]
  },
  {
   "attachments": {},
   "cell_type": "markdown",
   "metadata": {},
   "source": [
    "Here we see monotonic decreasing of WOE values which is necessary for prediction purpose. Predictive power of this `campaign` feature cutted-off to value 6 is weak but it still can be used for prediction  "
   ]
  },
  {
   "attachments": {},
   "cell_type": "markdown",
   "metadata": {},
   "source": [
    "[PIPELINE] In `campaign` feature replace outliers which a greater than 6 (Q3+1.5*IQR) with 6"
   ]
  },
  {
   "attachments": {},
   "cell_type": "markdown",
   "metadata": {},
   "source": [
    "### 9. Explore `pdays`, `previous`, `poutcome` features"
   ]
  },
  {
   "attachments": {},
   "cell_type": "markdown",
   "metadata": {},
   "source": [
    "Explore `pdays`, `previous`, `poutcome` features:\n",
    "- `pdays` contains hidden NAN value (999) in 96% of records => can be dropped (+ explore correlation with `previous` and `poutcome` features)\n",
    "- `previous` feature contains zeros in 86% of records => check if can be dropped (+ explore correlation with `pdays` and `poutcome` features)\n",
    "- `poutcome` feature contains 'nonexistent' value in 86% of records (probably the same where `previous` == 0) "
   ]
  },
  {
   "attachments": {},
   "cell_type": "markdown",
   "metadata": {},
   "source": [
    "Reminder:  \n",
    "`pdays` - number of days that passed by after the client was last contacted from a previous campaign  \n",
    "`previous` - number of contacts performed before this campaign and for this client (numeric)  \n",
    "`poutcome` - outcome of the previous marketing campaign"
   ]
  },
  {
   "attachments": {},
   "cell_type": "markdown",
   "metadata": {},
   "source": [
    "#### 9.1. Exploring `pdays` feature"
   ]
  },
  {
   "cell_type": "code",
   "execution_count": 49,
   "metadata": {},
   "outputs": [
    {
     "name": "stdout",
     "output_type": "stream",
     "text": [
      "Information Value: 0.4711 (strong)\n"
     ]
    },
    {
     "data": {
      "text/plain": [
       "feature\n",
       "0      0.970527\n",
       "1      0.495460\n",
       "2      1.664608\n",
       "3      2.563670\n",
       "4      1.705942\n",
       "5      1.557296\n",
       "6      2.649777\n",
       "7      1.827444\n",
       "8      1.096879\n",
       "9      1.412755\n",
       "10     1.580023\n",
       "11     1.177143\n",
       "12     1.392460\n",
       "13     1.726317\n",
       "14     0.970059\n",
       "15     1.431414\n",
       "16     0.821047\n",
       "17     0.269117\n",
       "18     0.543338\n",
       "19     0.230065\n",
       "20    -0.038344\n",
       "21     0.479808\n",
       "22     0.441464\n",
       "25     0.268409\n",
       "26     0.268409\n",
       "27     0.268409\n",
       "999   -0.222954\n",
       "Name: woe, dtype: float64"
      ]
     },
     "execution_count": 49,
     "metadata": {},
     "output_type": "execute_result"
    }
   ],
   "source": [
    "# check predictive power for initial feature based on WOE/IV\n",
    "woe, iv = get_woe_cat(df['pdays'], df['y'])\n",
    "print('Information Value: {:.4f} ({})'.format(iv, interpret_iv(iv)))\n",
    "woe"
   ]
  },
  {
   "cell_type": "code",
   "execution_count": 50,
   "metadata": {},
   "outputs": [
    {
     "name": "stdout",
     "output_type": "stream",
     "text": [
      "Absent-like values ratio: 96.20%\n"
     ]
    }
   ],
   "source": [
    "print('Absent-like values ratio: {:.2f}%'.format(df['pdays'].value_counts()[999] * 100 / len(df)))"
   ]
  },
  {
   "cell_type": "code",
   "execution_count": 51,
   "metadata": {},
   "outputs": [
    {
     "data": {
      "text/html": [
       "<div>\n",
       "<style scoped>\n",
       "    .dataframe tbody tr th:only-of-type {\n",
       "        vertical-align: middle;\n",
       "    }\n",
       "\n",
       "    .dataframe tbody tr th {\n",
       "        vertical-align: top;\n",
       "    }\n",
       "\n",
       "    .dataframe thead th {\n",
       "        text-align: right;\n",
       "    }\n",
       "</style>\n",
       "<table border=\"1\" class=\"dataframe\">\n",
       "  <thead>\n",
       "    <tr style=\"text-align: right;\">\n",
       "      <th>pdays</th>\n",
       "      <th>0</th>\n",
       "      <th>1</th>\n",
       "      <th>2</th>\n",
       "      <th>3</th>\n",
       "      <th>4</th>\n",
       "      <th>5</th>\n",
       "      <th>6</th>\n",
       "      <th>7</th>\n",
       "      <th>8</th>\n",
       "      <th>9</th>\n",
       "      <th>...</th>\n",
       "      <th>18</th>\n",
       "      <th>19</th>\n",
       "      <th>20</th>\n",
       "      <th>21</th>\n",
       "      <th>22</th>\n",
       "      <th>25</th>\n",
       "      <th>26</th>\n",
       "      <th>27</th>\n",
       "      <th>999</th>\n",
       "      <th>All</th>\n",
       "    </tr>\n",
       "    <tr>\n",
       "      <th>y</th>\n",
       "      <th></th>\n",
       "      <th></th>\n",
       "      <th></th>\n",
       "      <th></th>\n",
       "      <th></th>\n",
       "      <th></th>\n",
       "      <th></th>\n",
       "      <th></th>\n",
       "      <th></th>\n",
       "      <th></th>\n",
       "      <th></th>\n",
       "      <th></th>\n",
       "      <th></th>\n",
       "      <th></th>\n",
       "      <th></th>\n",
       "      <th></th>\n",
       "      <th></th>\n",
       "      <th></th>\n",
       "      <th></th>\n",
       "      <th></th>\n",
       "      <th></th>\n",
       "    </tr>\n",
       "  </thead>\n",
       "  <tbody>\n",
       "    <tr>\n",
       "      <th>0</th>\n",
       "      <td>5</td>\n",
       "      <td>14</td>\n",
       "      <td>21</td>\n",
       "      <td>105</td>\n",
       "      <td>42</td>\n",
       "      <td>13</td>\n",
       "      <td>92</td>\n",
       "      <td>14</td>\n",
       "      <td>4</td>\n",
       "      <td>19</td>\n",
       "      <td>...</td>\n",
       "      <td>3</td>\n",
       "      <td>1</td>\n",
       "      <td>1</td>\n",
       "      <td>0</td>\n",
       "      <td>1</td>\n",
       "      <td>0</td>\n",
       "      <td>0</td>\n",
       "      <td>0</td>\n",
       "      <td>25177</td>\n",
       "      <td>25583</td>\n",
       "    </tr>\n",
       "    <tr>\n",
       "      <th>1</th>\n",
       "      <td>7</td>\n",
       "      <td>5</td>\n",
       "      <td>28</td>\n",
       "      <td>212</td>\n",
       "      <td>44</td>\n",
       "      <td>20</td>\n",
       "      <td>208</td>\n",
       "      <td>28</td>\n",
       "      <td>8</td>\n",
       "      <td>20</td>\n",
       "      <td>...</td>\n",
       "      <td>3</td>\n",
       "      <td>1</td>\n",
       "      <td>0</td>\n",
       "      <td>2</td>\n",
       "      <td>2</td>\n",
       "      <td>1</td>\n",
       "      <td>1</td>\n",
       "      <td>1</td>\n",
       "      <td>2557</td>\n",
       "      <td>3248</td>\n",
       "    </tr>\n",
       "    <tr>\n",
       "      <th>All</th>\n",
       "      <td>12</td>\n",
       "      <td>19</td>\n",
       "      <td>49</td>\n",
       "      <td>317</td>\n",
       "      <td>86</td>\n",
       "      <td>33</td>\n",
       "      <td>300</td>\n",
       "      <td>42</td>\n",
       "      <td>12</td>\n",
       "      <td>39</td>\n",
       "      <td>...</td>\n",
       "      <td>6</td>\n",
       "      <td>2</td>\n",
       "      <td>1</td>\n",
       "      <td>2</td>\n",
       "      <td>3</td>\n",
       "      <td>1</td>\n",
       "      <td>1</td>\n",
       "      <td>1</td>\n",
       "      <td>27734</td>\n",
       "      <td>28831</td>\n",
       "    </tr>\n",
       "  </tbody>\n",
       "</table>\n",
       "<p>3 rows × 28 columns</p>\n",
       "</div>"
      ],
      "text/plain": [
       "pdays   0   1   2    3   4   5    6   7   8   9  ...  18  19  20  21  22  25  \\\n",
       "y                                                ...                           \n",
       "0       5  14  21  105  42  13   92  14   4  19  ...   3   1   1   0   1   0   \n",
       "1       7   5  28  212  44  20  208  28   8  20  ...   3   1   0   2   2   1   \n",
       "All    12  19  49  317  86  33  300  42  12  39  ...   6   2   1   2   3   1   \n",
       "\n",
       "pdays  26  27    999    All  \n",
       "y                            \n",
       "0       0   0  25177  25583  \n",
       "1       1   1   2557   3248  \n",
       "All     1   1  27734  28831  \n",
       "\n",
       "[3 rows x 28 columns]"
      ]
     },
     "execution_count": 51,
     "metadata": {},
     "output_type": "execute_result"
    }
   ],
   "source": [
    "pd.crosstab(df['y'], df['pdays'], margins=True)"
   ]
  },
  {
   "cell_type": "code",
   "execution_count": 52,
   "metadata": {},
   "outputs": [
    {
     "data": {
      "text/plain": [
       "<AxesSubplot: xlabel='pdays'>"
      ]
     },
     "execution_count": 52,
     "metadata": {},
     "output_type": "execute_result"
    },
    {
     "data": {
      "image/png": "[encoded data removed]",
      "text/plain": [
       "<Figure size 640x480 with 1 Axes>"
      ]
     },
     "metadata": {},
     "output_type": "display_data"
    }
   ],
   "source": [
    "# boxplot of pdays to detect outlier values (excluding value 999)\n",
    "sns.boxplot(data=df[df['pdays'] < 999], x='pdays')"
   ]
  },
  {
   "cell_type": "code",
   "execution_count": 53,
   "metadata": {},
   "outputs": [
    {
     "name": "stdout",
     "output_type": "stream",
     "text": [
      "Q1  = 3.0\n",
      "Q3  = 7.0\n",
      "IQR = 4.0\n",
      "Cutoff value: 13.0\n"
     ]
    }
   ],
   "source": [
    "# check what values are beyond Q3+1.5*IQR (except value 999)\n",
    "q1 = df[df['pdays'] < 999]['pdays'].quantile(0.25)\n",
    "q3 = df[df['pdays'] < 999]['pdays'].quantile(0.75)\n",
    "iqr = q3 - q1\n",
    "cutoff_val = q3 + 1.5 * iqr\n",
    "print(f'Q1  = {q1}')\n",
    "print(f'Q3  = {q3}')\n",
    "print(f'IQR = {iqr}')\n",
    "print(f'Cutoff value: {cutoff_val}')"
   ]
  },
  {
   "cell_type": "code",
   "execution_count": 54,
   "metadata": {},
   "outputs": [
    {
     "name": "stdout",
     "output_type": "stream",
     "text": [
      "Information Value: 0.4421 (strong)\n"
     ]
    },
    {
     "data": {
      "text/plain": [
       "feature\n",
       "0.0     0.970527\n",
       "1.0     0.495460\n",
       "2.0     1.664608\n",
       "3.0     2.563670\n",
       "4.0     1.705942\n",
       "5.0     1.557296\n",
       "6.0     2.649777\n",
       "7.0     1.827444\n",
       "8.0     1.096879\n",
       "9.0     1.412755\n",
       "10.0    1.580023\n",
       "11.0    1.177143\n",
       "12.0    1.392460\n",
       "13.0    2.091001\n",
       "Name: woe, dtype: float64"
      ]
     },
     "execution_count": 54,
     "metadata": {},
     "output_type": "execute_result"
    }
   ],
   "source": [
    "# check predictive power for cutted-off feature (excluded 999 value) based on WOE/IV\n",
    "woe, iv = get_woe_cat(df[df['pdays'] < 999]['pdays'].apply(lambda x: np.min([13.0, x])), df['y'])\n",
    "print('Information Value: {:.4f} ({})'.format(iv, interpret_iv(iv)))\n",
    "woe"
   ]
  },
  {
   "cell_type": "code",
   "execution_count": 55,
   "metadata": {},
   "outputs": [
    {
     "data": {
      "text/plain": [
       "<AxesSubplot: xlabel='feature', ylabel='woe'>"
      ]
     },
     "execution_count": 55,
     "metadata": {},
     "output_type": "execute_result"
    },
    {
     "data": {
      "image/png": "[encoded data removed]",
      "text/plain": [
       "<Figure size 640x480 with 1 Axes>"
      ]
     },
     "metadata": {},
     "output_type": "display_data"
    }
   ],
   "source": [
    "# check monotonity\n",
    "sns.scatterplot(data=woe.reset_index(), x='feature', y='woe')"
   ]
  },
  {
   "attachments": {},
   "cell_type": "markdown",
   "metadata": {},
   "source": [
    "Further feature binning may be required"
   ]
  },
  {
   "cell_type": "code",
   "execution_count": 56,
   "metadata": {},
   "outputs": [
    {
     "data": {
      "text/html": [
       "<div>\n",
       "<style scoped>\n",
       "    .dataframe tbody tr th:only-of-type {\n",
       "        vertical-align: middle;\n",
       "    }\n",
       "\n",
       "    .dataframe tbody tr th {\n",
       "        vertical-align: top;\n",
       "    }\n",
       "\n",
       "    .dataframe thead th {\n",
       "        text-align: right;\n",
       "    }\n",
       "</style>\n",
       "<table border=\"1\" class=\"dataframe\">\n",
       "  <thead>\n",
       "    <tr style=\"text-align: right;\">\n",
       "      <th>pdays</th>\n",
       "      <th>0</th>\n",
       "      <th>1</th>\n",
       "      <th>2</th>\n",
       "      <th>3</th>\n",
       "      <th>4</th>\n",
       "      <th>5</th>\n",
       "      <th>6</th>\n",
       "      <th>7</th>\n",
       "      <th>8</th>\n",
       "      <th>9</th>\n",
       "      <th>...</th>\n",
       "      <th>16</th>\n",
       "      <th>17</th>\n",
       "      <th>18</th>\n",
       "      <th>19</th>\n",
       "      <th>20</th>\n",
       "      <th>21</th>\n",
       "      <th>22</th>\n",
       "      <th>25</th>\n",
       "      <th>26</th>\n",
       "      <th>27</th>\n",
       "    </tr>\n",
       "    <tr>\n",
       "      <th>y</th>\n",
       "      <th></th>\n",
       "      <th></th>\n",
       "      <th></th>\n",
       "      <th></th>\n",
       "      <th></th>\n",
       "      <th></th>\n",
       "      <th></th>\n",
       "      <th></th>\n",
       "      <th></th>\n",
       "      <th></th>\n",
       "      <th></th>\n",
       "      <th></th>\n",
       "      <th></th>\n",
       "      <th></th>\n",
       "      <th></th>\n",
       "      <th></th>\n",
       "      <th></th>\n",
       "      <th></th>\n",
       "      <th></th>\n",
       "      <th></th>\n",
       "      <th></th>\n",
       "    </tr>\n",
       "  </thead>\n",
       "  <tbody>\n",
       "    <tr>\n",
       "      <th>0</th>\n",
       "      <td>5</td>\n",
       "      <td>14</td>\n",
       "      <td>21</td>\n",
       "      <td>105</td>\n",
       "      <td>42</td>\n",
       "      <td>13</td>\n",
       "      <td>92</td>\n",
       "      <td>14</td>\n",
       "      <td>4</td>\n",
       "      <td>19</td>\n",
       "      <td>...</td>\n",
       "      <td>3</td>\n",
       "      <td>6</td>\n",
       "      <td>3</td>\n",
       "      <td>1</td>\n",
       "      <td>1</td>\n",
       "      <td>0</td>\n",
       "      <td>1</td>\n",
       "      <td>0</td>\n",
       "      <td>0</td>\n",
       "      <td>0</td>\n",
       "    </tr>\n",
       "    <tr>\n",
       "      <th>1</th>\n",
       "      <td>7</td>\n",
       "      <td>5</td>\n",
       "      <td>28</td>\n",
       "      <td>212</td>\n",
       "      <td>44</td>\n",
       "      <td>20</td>\n",
       "      <td>208</td>\n",
       "      <td>28</td>\n",
       "      <td>8</td>\n",
       "      <td>20</td>\n",
       "      <td>...</td>\n",
       "      <td>5</td>\n",
       "      <td>2</td>\n",
       "      <td>3</td>\n",
       "      <td>1</td>\n",
       "      <td>0</td>\n",
       "      <td>2</td>\n",
       "      <td>2</td>\n",
       "      <td>1</td>\n",
       "      <td>1</td>\n",
       "      <td>1</td>\n",
       "    </tr>\n",
       "  </tbody>\n",
       "</table>\n",
       "<p>2 rows × 26 columns</p>\n",
       "</div>"
      ],
      "text/plain": [
       "pdays  0   1   2    3   4   5    6   7   8   9   ...  16  17  18  19  20  21  \\\n",
       "y                                                ...                           \n",
       "0       5  14  21  105  42  13   92  14   4  19  ...   3   6   3   1   1   0   \n",
       "1       7   5  28  212  44  20  208  28   8  20  ...   5   2   3   1   0   2   \n",
       "\n",
       "pdays  22  25  26  27  \n",
       "y                      \n",
       "0       1   0   0   0  \n",
       "1       2   1   1   1  \n",
       "\n",
       "[2 rows x 26 columns]"
      ]
     },
     "execution_count": 56,
     "metadata": {},
     "output_type": "execute_result"
    }
   ],
   "source": [
    "ct = pd.crosstab(df[df['pdays'] < 999]['pdays'], df['y']).sort_index(axis=0)\n",
    "ct.transpose()"
   ]
  },
  {
   "attachments": {},
   "cell_type": "markdown",
   "metadata": {},
   "source": [
    "Seems in most cases if client was contacted in previous campaign the probability of positive decision is higher. Let's check it visually"
   ]
  },
  {
   "cell_type": "code",
   "execution_count": 57,
   "metadata": {},
   "outputs": [
    {
     "data": {
      "text/plain": [
       "\"\\nprint('yes/no ratio for `pdays` values')\\nfor x in ct.index:\\n    print('{}: {:.3f}'.format(x, (ct.loc[x, 'yes']+1)/(ct.loc[x, 'no']+1)))\\n\""
      ]
     },
     "execution_count": 57,
     "metadata": {},
     "output_type": "execute_result"
    },
    {
     "data": {
      "image/png": "[encoded data removed]",
      "text/plain": [
       "<Figure size 700x500 with 1 Axes>"
      ]
     },
     "metadata": {},
     "output_type": "display_data"
    }
   ],
   "source": [
    "fig, ax = plt.subplots(1, 1, figsize=(7, 5))\n",
    "ax.bar(x=[x+0.1 for x in range(len(ct.index))], height=ct[target_positive], width=0.7, label='yes')\n",
    "ax.bar(x=[x-0.1 for x in range(len(ct.index))], height=ct[target_negative], width=0.7, alpha=0.7, label='no')\n",
    "ax.set_xticks(range(len(ct)))\n",
    "ax.set_xticklabels(ct.index)\n",
    "ax.legend();\n",
    "\"\"\"\n",
    "print('yes/no ratio for `pdays` values')\n",
    "for x in ct.index:\n",
    "    print('{}: {:.3f}'.format(x, (ct.loc[x, 'yes']+1)/(ct.loc[x, 'no']+1)))\n",
    "\"\"\""
   ]
  },
  {
   "attachments": {},
   "cell_type": "markdown",
   "metadata": {},
   "source": [
    "We have 2 peaks here. Think in case of binning they should refer to different bins.  \n",
    "[PIPELINE] Options to apply to `pdays` feature:  \n",
    "1. Drop feature\n",
    "2. Split values to bins considering values 3 and 6 as anchor points (base example: [0, 4), [4, 7), [7, 50), [50, 1000)) and apply WoE estimates  \n",
    "3. Create additional feature `was_contacted`"
   ]
  },
  {
   "attachments": {},
   "cell_type": "markdown",
   "metadata": {},
   "source": [
    "Let's try to evaluate predictive power of binning from unit 2 above"
   ]
  },
  {
   "cell_type": "code",
   "execution_count": 58,
   "metadata": {},
   "outputs": [
    {
     "data": {
      "text/plain": [
       "IntervalIndex([(-1, 3], (3, 6], (6, 13], (13, 50], (50, 999]], dtype='interval[int64, right]')"
      ]
     },
     "execution_count": 58,
     "metadata": {},
     "output_type": "execute_result"
    }
   ],
   "source": [
    "# creating bins\n",
    "pdays_bins = pd.IntervalIndex.from_breaks([-1, 3, 6, 13, 50, 999], closed='right')\n",
    "pdays_bins"
   ]
  },
  {
   "cell_type": "code",
   "execution_count": 59,
   "metadata": {},
   "outputs": [
    {
     "data": {
      "text/html": [
       "<div>\n",
       "<style scoped>\n",
       "    .dataframe tbody tr th:only-of-type {\n",
       "        vertical-align: middle;\n",
       "    }\n",
       "\n",
       "    .dataframe tbody tr th {\n",
       "        vertical-align: top;\n",
       "    }\n",
       "\n",
       "    .dataframe thead th {\n",
       "        text-align: right;\n",
       "    }\n",
       "</style>\n",
       "<table border=\"1\" class=\"dataframe\">\n",
       "  <thead>\n",
       "    <tr style=\"text-align: right;\">\n",
       "      <th></th>\n",
       "      <th>age</th>\n",
       "      <th>job</th>\n",
       "      <th>marital</th>\n",
       "      <th>education</th>\n",
       "      <th>default</th>\n",
       "      <th>housing</th>\n",
       "      <th>loan</th>\n",
       "      <th>contact</th>\n",
       "      <th>month</th>\n",
       "      <th>day_of_week</th>\n",
       "      <th>...</th>\n",
       "      <th>poutcome</th>\n",
       "      <th>emp.var.rate</th>\n",
       "      <th>cons.price.idx</th>\n",
       "      <th>cons.conf.idx</th>\n",
       "      <th>euribor3m</th>\n",
       "      <th>nr.employed</th>\n",
       "      <th>y</th>\n",
       "      <th>education_ordered</th>\n",
       "      <th>age_bins</th>\n",
       "      <th>pdays_bin</th>\n",
       "    </tr>\n",
       "  </thead>\n",
       "  <tbody>\n",
       "    <tr>\n",
       "      <th>0</th>\n",
       "      <td>50</td>\n",
       "      <td>blue-collar</td>\n",
       "      <td>single</td>\n",
       "      <td>basic.4y</td>\n",
       "      <td>0.150267</td>\n",
       "      <td>no</td>\n",
       "      <td>no</td>\n",
       "      <td>0.0</td>\n",
       "      <td>may</td>\n",
       "      <td>thu</td>\n",
       "      <td>...</td>\n",
       "      <td>nonexistent</td>\n",
       "      <td>1.1</td>\n",
       "      <td>93.994</td>\n",
       "      <td>-36.4</td>\n",
       "      <td>4.860</td>\n",
       "      <td>5191.0</td>\n",
       "      <td>0</td>\n",
       "      <td>basic.4y</td>\n",
       "      <td>(49.4, 57.5]</td>\n",
       "      <td>(50, 999]</td>\n",
       "    </tr>\n",
       "    <tr>\n",
       "      <th>1</th>\n",
       "      <td>51</td>\n",
       "      <td>services</td>\n",
       "      <td>married</td>\n",
       "      <td>professional.course</td>\n",
       "      <td>-0.819063</td>\n",
       "      <td>no</td>\n",
       "      <td>no</td>\n",
       "      <td>0.0</td>\n",
       "      <td>may</td>\n",
       "      <td>mon</td>\n",
       "      <td>...</td>\n",
       "      <td>nonexistent</td>\n",
       "      <td>1.1</td>\n",
       "      <td>93.994</td>\n",
       "      <td>-36.4</td>\n",
       "      <td>4.858</td>\n",
       "      <td>5191.0</td>\n",
       "      <td>0</td>\n",
       "      <td>professional.course</td>\n",
       "      <td>(49.4, 57.5]</td>\n",
       "      <td>(50, 999]</td>\n",
       "    </tr>\n",
       "    <tr>\n",
       "      <th>2</th>\n",
       "      <td>46</td>\n",
       "      <td>technician</td>\n",
       "      <td>divorced</td>\n",
       "      <td>professional.course</td>\n",
       "      <td>0.150267</td>\n",
       "      <td>yes</td>\n",
       "      <td>no</td>\n",
       "      <td>1.0</td>\n",
       "      <td>may</td>\n",
       "      <td>mon</td>\n",
       "      <td>...</td>\n",
       "      <td>nonexistent</td>\n",
       "      <td>-1.8</td>\n",
       "      <td>92.893</td>\n",
       "      <td>-46.2</td>\n",
       "      <td>1.244</td>\n",
       "      <td>5099.1</td>\n",
       "      <td>0</td>\n",
       "      <td>professional.course</td>\n",
       "      <td>(41.3, 49.4]</td>\n",
       "      <td>(50, 999]</td>\n",
       "    </tr>\n",
       "    <tr>\n",
       "      <th>3</th>\n",
       "      <td>46</td>\n",
       "      <td>admin.</td>\n",
       "      <td>single</td>\n",
       "      <td>university.degree</td>\n",
       "      <td>0.150267</td>\n",
       "      <td>yes</td>\n",
       "      <td>no</td>\n",
       "      <td>0.0</td>\n",
       "      <td>jun</td>\n",
       "      <td>mon</td>\n",
       "      <td>...</td>\n",
       "      <td>nonexistent</td>\n",
       "      <td>1.4</td>\n",
       "      <td>94.465</td>\n",
       "      <td>-41.8</td>\n",
       "      <td>4.961</td>\n",
       "      <td>5228.1</td>\n",
       "      <td>0</td>\n",
       "      <td>university.degree</td>\n",
       "      <td>(41.3, 49.4]</td>\n",
       "      <td>(50, 999]</td>\n",
       "    </tr>\n",
       "    <tr>\n",
       "      <th>4</th>\n",
       "      <td>25</td>\n",
       "      <td>services</td>\n",
       "      <td>single</td>\n",
       "      <td>high.school</td>\n",
       "      <td>0.150267</td>\n",
       "      <td>no</td>\n",
       "      <td>no</td>\n",
       "      <td>1.0</td>\n",
       "      <td>may</td>\n",
       "      <td>thu</td>\n",
       "      <td>...</td>\n",
       "      <td>nonexistent</td>\n",
       "      <td>-1.8</td>\n",
       "      <td>92.893</td>\n",
       "      <td>-46.2</td>\n",
       "      <td>1.266</td>\n",
       "      <td>5099.1</td>\n",
       "      <td>1</td>\n",
       "      <td>high.school</td>\n",
       "      <td>(16.919, 25.1]</td>\n",
       "      <td>(50, 999]</td>\n",
       "    </tr>\n",
       "  </tbody>\n",
       "</table>\n",
       "<p>5 rows × 24 columns</p>\n",
       "</div>"
      ],
      "text/plain": [
       "   age          job   marital            education   default housing loan  \\\n",
       "0   50  blue-collar    single             basic.4y  0.150267      no   no   \n",
       "1   51     services   married  professional.course -0.819063      no   no   \n",
       "2   46   technician  divorced  professional.course  0.150267     yes   no   \n",
       "3   46       admin.    single    university.degree  0.150267     yes   no   \n",
       "4   25     services    single          high.school  0.150267      no   no   \n",
       "\n",
       "   contact month day_of_week  ...     poutcome  emp.var.rate  cons.price.idx  \\\n",
       "0      0.0   may         thu  ...  nonexistent           1.1          93.994   \n",
       "1      0.0   may         mon  ...  nonexistent           1.1          93.994   \n",
       "2      1.0   may         mon  ...  nonexistent          -1.8          92.893   \n",
       "3      0.0   jun         mon  ...  nonexistent           1.4          94.465   \n",
       "4      1.0   may         thu  ...  nonexistent          -1.8          92.893   \n",
       "\n",
       "   cons.conf.idx euribor3m  nr.employed  y    education_ordered  \\\n",
       "0          -36.4     4.860       5191.0  0             basic.4y   \n",
       "1          -36.4     4.858       5191.0  0  professional.course   \n",
       "2          -46.2     1.244       5099.1  0  professional.course   \n",
       "3          -41.8     4.961       5228.1  0    university.degree   \n",
       "4          -46.2     1.266       5099.1  1          high.school   \n",
       "\n",
       "         age_bins  pdays_bin  \n",
       "0    (49.4, 57.5]  (50, 999]  \n",
       "1    (49.4, 57.5]  (50, 999]  \n",
       "2    (41.3, 49.4]  (50, 999]  \n",
       "3    (41.3, 49.4]  (50, 999]  \n",
       "4  (16.919, 25.1]  (50, 999]  \n",
       "\n",
       "[5 rows x 24 columns]"
      ]
     },
     "execution_count": 59,
     "metadata": {},
     "output_type": "execute_result"
    }
   ],
   "source": [
    "#creating new feature by applying bins\n",
    "df['pdays_bin'] = pd.cut(df['pdays'], bins=pdays_bins)\n",
    "df.head()"
   ]
  },
  {
   "cell_type": "code",
   "execution_count": 60,
   "metadata": {},
   "outputs": [
    {
     "name": "stdout",
     "output_type": "stream",
     "text": [
      "Information Value: 0.5189 (suspicious)\n"
     ]
    },
    {
     "data": {
      "text/plain": [
       "feature\n",
       "(-1, 3]      2.466902\n",
       "(3, 6]       2.530683\n",
       "(6, 13]      2.226209\n",
       "(13, 50]     1.826214\n",
       "(50, 999]   -0.222954\n",
       "Name: woe, dtype: float64"
      ]
     },
     "execution_count": 60,
     "metadata": {},
     "output_type": "execute_result"
    }
   ],
   "source": [
    "# check predictive power for cutted-off feature based on WOE/IV\n",
    "feature = 'pdays_bin'\n",
    "woe, iv = get_woe_cat(df[feature], df['y'])\n",
    "print('Information Value: {:.4f} ({})'.format(iv, interpret_iv(iv)))\n",
    "woe"
   ]
  },
  {
   "attachments": {},
   "cell_type": "markdown",
   "metadata": {},
   "source": [
    "Received value of predictive power for this binning is suspiciously high. We'll have to check real predictive power when testing model"
   ]
  },
  {
   "cell_type": "code",
   "execution_count": 61,
   "metadata": {},
   "outputs": [
    {
     "data": {
      "image/png": "[encoded data removed]",
      "text/plain": [
       "<Figure size 500x400 with 1 Axes>"
      ]
     },
     "metadata": {},
     "output_type": "display_data"
    }
   ],
   "source": [
    "# check monotonity\n",
    "fig, ax = plt.subplots(1, 1, figsize=(5, 4))\n",
    "ax.scatter(x=range(len(woe)), y=woe.values)\n",
    "ax.set_xticks(range(len(woe)))\n",
    "ax.set_xticklabels([str(x) for x in woe.index]);"
   ]
  },
  {
   "cell_type": "code",
   "execution_count": 62,
   "metadata": {},
   "outputs": [
    {
     "data": {
      "text/html": [
       "<div>\n",
       "<style scoped>\n",
       "    .dataframe tbody tr th:only-of-type {\n",
       "        vertical-align: middle;\n",
       "    }\n",
       "\n",
       "    .dataframe tbody tr th {\n",
       "        vertical-align: top;\n",
       "    }\n",
       "\n",
       "    .dataframe thead th {\n",
       "        text-align: right;\n",
       "    }\n",
       "</style>\n",
       "<table border=\"1\" class=\"dataframe\">\n",
       "  <thead>\n",
       "    <tr style=\"text-align: right;\">\n",
       "      <th></th>\n",
       "      <th>age</th>\n",
       "      <th>job</th>\n",
       "      <th>marital</th>\n",
       "      <th>education</th>\n",
       "      <th>default</th>\n",
       "      <th>housing</th>\n",
       "      <th>loan</th>\n",
       "      <th>contact</th>\n",
       "      <th>month</th>\n",
       "      <th>day_of_week</th>\n",
       "      <th>...</th>\n",
       "      <th>previous</th>\n",
       "      <th>poutcome</th>\n",
       "      <th>emp.var.rate</th>\n",
       "      <th>cons.price.idx</th>\n",
       "      <th>cons.conf.idx</th>\n",
       "      <th>euribor3m</th>\n",
       "      <th>nr.employed</th>\n",
       "      <th>y</th>\n",
       "      <th>education_ordered</th>\n",
       "      <th>age_bins</th>\n",
       "    </tr>\n",
       "  </thead>\n",
       "  <tbody>\n",
       "    <tr>\n",
       "      <th>17886</th>\n",
       "      <td>38</td>\n",
       "      <td>admin.</td>\n",
       "      <td>single</td>\n",
       "      <td>high.school</td>\n",
       "      <td>0.150267</td>\n",
       "      <td>no</td>\n",
       "      <td>no</td>\n",
       "      <td>1.0</td>\n",
       "      <td>may</td>\n",
       "      <td>mon</td>\n",
       "      <td>...</td>\n",
       "      <td>0</td>\n",
       "      <td>nonexistent</td>\n",
       "      <td>-1.8</td>\n",
       "      <td>92.893</td>\n",
       "      <td>-46.2</td>\n",
       "      <td>1.244</td>\n",
       "      <td>5099.1</td>\n",
       "      <td>0</td>\n",
       "      <td>high.school</td>\n",
       "      <td>(33.2, 41.3]</td>\n",
       "    </tr>\n",
       "    <tr>\n",
       "      <th>5318</th>\n",
       "      <td>39</td>\n",
       "      <td>self-employed</td>\n",
       "      <td>divorced</td>\n",
       "      <td>professional.course</td>\n",
       "      <td>0.150267</td>\n",
       "      <td>yes</td>\n",
       "      <td>no</td>\n",
       "      <td>0.0</td>\n",
       "      <td>jun</td>\n",
       "      <td>thu</td>\n",
       "      <td>...</td>\n",
       "      <td>0</td>\n",
       "      <td>nonexistent</td>\n",
       "      <td>1.4</td>\n",
       "      <td>94.465</td>\n",
       "      <td>-41.8</td>\n",
       "      <td>4.955</td>\n",
       "      <td>5228.1</td>\n",
       "      <td>0</td>\n",
       "      <td>professional.course</td>\n",
       "      <td>(33.2, 41.3]</td>\n",
       "    </tr>\n",
       "    <tr>\n",
       "      <th>28513</th>\n",
       "      <td>36</td>\n",
       "      <td>services</td>\n",
       "      <td>married</td>\n",
       "      <td>high.school</td>\n",
       "      <td>0.150267</td>\n",
       "      <td>yes</td>\n",
       "      <td>no</td>\n",
       "      <td>0.0</td>\n",
       "      <td>may</td>\n",
       "      <td>mon</td>\n",
       "      <td>...</td>\n",
       "      <td>0</td>\n",
       "      <td>nonexistent</td>\n",
       "      <td>1.1</td>\n",
       "      <td>93.994</td>\n",
       "      <td>-36.4</td>\n",
       "      <td>4.857</td>\n",
       "      <td>5191.0</td>\n",
       "      <td>0</td>\n",
       "      <td>high.school</td>\n",
       "      <td>(33.2, 41.3]</td>\n",
       "    </tr>\n",
       "    <tr>\n",
       "      <th>28490</th>\n",
       "      <td>30</td>\n",
       "      <td>admin.</td>\n",
       "      <td>single</td>\n",
       "      <td>university.degree</td>\n",
       "      <td>-0.819063</td>\n",
       "      <td>yes</td>\n",
       "      <td>no</td>\n",
       "      <td>1.0</td>\n",
       "      <td>may</td>\n",
       "      <td>mon</td>\n",
       "      <td>...</td>\n",
       "      <td>0</td>\n",
       "      <td>nonexistent</td>\n",
       "      <td>-1.8</td>\n",
       "      <td>92.893</td>\n",
       "      <td>-46.2</td>\n",
       "      <td>1.244</td>\n",
       "      <td>5099.1</td>\n",
       "      <td>0</td>\n",
       "      <td>university.degree</td>\n",
       "      <td>(25.1, 33.2]</td>\n",
       "    </tr>\n",
       "    <tr>\n",
       "      <th>25180</th>\n",
       "      <td>44</td>\n",
       "      <td>blue-collar</td>\n",
       "      <td>married</td>\n",
       "      <td>basic.6y</td>\n",
       "      <td>0.150267</td>\n",
       "      <td>no</td>\n",
       "      <td>no</td>\n",
       "      <td>1.0</td>\n",
       "      <td>apr</td>\n",
       "      <td>mon</td>\n",
       "      <td>...</td>\n",
       "      <td>0</td>\n",
       "      <td>nonexistent</td>\n",
       "      <td>-1.8</td>\n",
       "      <td>93.075</td>\n",
       "      <td>-47.1</td>\n",
       "      <td>1.405</td>\n",
       "      <td>5099.1</td>\n",
       "      <td>0</td>\n",
       "      <td>basic.6y</td>\n",
       "      <td>(41.3, 49.4]</td>\n",
       "    </tr>\n",
       "  </tbody>\n",
       "</table>\n",
       "<p>5 rows × 23 columns</p>\n",
       "</div>"
      ],
      "text/plain": [
       "       age            job   marital            education   default housing  \\\n",
       "17886   38         admin.    single          high.school  0.150267      no   \n",
       "5318    39  self-employed  divorced  professional.course  0.150267     yes   \n",
       "28513   36       services   married          high.school  0.150267     yes   \n",
       "28490   30         admin.    single    university.degree -0.819063     yes   \n",
       "25180   44    blue-collar   married             basic.6y  0.150267      no   \n",
       "\n",
       "      loan  contact month day_of_week  ...  previous     poutcome  \\\n",
       "17886   no      1.0   may         mon  ...         0  nonexistent   \n",
       "5318    no      0.0   jun         thu  ...         0  nonexistent   \n",
       "28513   no      0.0   may         mon  ...         0  nonexistent   \n",
       "28490   no      1.0   may         mon  ...         0  nonexistent   \n",
       "25180   no      1.0   apr         mon  ...         0  nonexistent   \n",
       "\n",
       "      emp.var.rate  cons.price.idx cons.conf.idx  euribor3m  nr.employed  y  \\\n",
       "17886         -1.8          92.893         -46.2      1.244       5099.1  0   \n",
       "5318           1.4          94.465         -41.8      4.955       5228.1  0   \n",
       "28513          1.1          93.994         -36.4      4.857       5191.0  0   \n",
       "28490         -1.8          92.893         -46.2      1.244       5099.1  0   \n",
       "25180         -1.8          93.075         -47.1      1.405       5099.1  0   \n",
       "\n",
       "         education_ordered      age_bins  \n",
       "17886          high.school  (33.2, 41.3]  \n",
       "5318   professional.course  (33.2, 41.3]  \n",
       "28513          high.school  (33.2, 41.3]  \n",
       "28490    university.degree  (25.1, 33.2]  \n",
       "25180             basic.6y  (41.3, 49.4]  \n",
       "\n",
       "[5 rows x 23 columns]"
      ]
     },
     "execution_count": 62,
     "metadata": {},
     "output_type": "execute_result"
    }
   ],
   "source": [
    "# encoding by WoE values\n",
    "df['pdays'] = df['pdays_bin'].map(dict(zip(woe.index, woe.values)))\n",
    "df = df.drop(columns='pdays_bin')\n",
    "df.sample(5)"
   ]
  },
  {
   "attachments": {},
   "cell_type": "markdown",
   "metadata": {},
   "source": [
    "#### 9.2. Exploring `previous` feature"
   ]
  },
  {
   "cell_type": "code",
   "execution_count": 63,
   "metadata": {},
   "outputs": [
    {
     "name": "stdout",
     "output_type": "stream",
     "text": [
      "Missing-like value `0` share: 86.15%\n"
     ]
    },
    {
     "data": {
      "text/plain": [
       "0    24838\n",
       "1     3234\n",
       "2      534\n",
       "3      151\n",
       "4       56\n",
       "5       12\n",
       "6        5\n",
       "7        1\n",
       "Name: previous, dtype: int64"
      ]
     },
     "execution_count": 63,
     "metadata": {},
     "output_type": "execute_result"
    }
   ],
   "source": [
    "print('Missing-like value `0` share: {:.2f}%'.format(df['previous'].value_counts()[0] *100 / len(df)))\n",
    "df['previous'].value_counts()"
   ]
  },
  {
   "attachments": {},
   "cell_type": "markdown",
   "metadata": {},
   "source": [
    "`previous` feature seems like `pdays` as 86% of all values is 0  \n",
    "Checking correspondence between `pdays` and `previous`  "
   ]
  },
  {
   "attachments": {},
   "cell_type": "markdown",
   "metadata": {},
   "source": [
    "[???] How can it be that `pdays` == 999 AND `previous` > 0 ?"
   ]
  },
  {
   "cell_type": "code",
   "execution_count": 64,
   "metadata": {},
   "outputs": [
    {
     "name": "stdout",
     "output_type": "stream",
     "text": [
      "Information Value: 0.3323 (strong)\n"
     ]
    },
    {
     "data": {
      "text/plain": [
       "feature\n",
       "0   -0.276437\n",
       "1    0.755608\n",
       "2    1.834273\n",
       "3    2.115782\n",
       "4    1.624691\n",
       "5    1.096879\n",
       "6    0.578950\n",
       "7   -0.038344\n",
       "Name: woe, dtype: float64"
      ]
     },
     "execution_count": 64,
     "metadata": {},
     "output_type": "execute_result"
    }
   ],
   "source": [
    "# check predictive power for cutted-off feature based on WOE/IV\n",
    "feature = 'previous'\n",
    "woe, iv = get_woe_cat(df[feature], df['y'])\n",
    "print('Information Value: {:.4f} ({})'.format(iv, interpret_iv(iv)))\n",
    "woe"
   ]
  },
  {
   "cell_type": "code",
   "execution_count": 65,
   "metadata": {},
   "outputs": [
    {
     "data": {
      "text/plain": [
       "\"\\n# show positive / negative values ratio\\nprint('yes/no ratio for `previous` values')\\nfor x in ct.index:\\n    print('{}: {:.3f}'.format(x, ct.loc[x, target_positive]/ct.loc[x, target_negative]))\\n\""
      ]
     },
     "execution_count": 65,
     "metadata": {},
     "output_type": "execute_result"
    },
    {
     "data": {
      "image/png": "[encoded data removed]",
      "text/plain": [
       "<Figure size 700x500 with 1 Axes>"
      ]
     },
     "metadata": {},
     "output_type": "display_data"
    }
   ],
   "source": [
    "fig, ax = plt.subplots(1, 1, figsize=(7, 5))\n",
    "ct = pd.crosstab(df[df['previous'] > 0]['previous'], df['y']).sort_index(axis=0)\n",
    "ax.bar(x=[x+0.1 for x in range(len(ct.index))], height=ct[target_positive], width=0.7, label='yes')\n",
    "ax.bar(x=[x-0.1 for x in range(len(ct.index))], height=ct[target_negative], width=0.7, alpha=0.7, label='no')\n",
    "ax.set_xticks(range(len(ct)))\n",
    "ax.set_xticklabels(ct.index)\n",
    "ax.legend();\n",
    "\"\"\"\n",
    "# show positive / negative values ratio\n",
    "print('yes/no ratio for `previous` values')\n",
    "for x in ct.index:\n",
    "    print('{}: {:.3f}'.format(x, ct.loc[x, target_positive]/ct.loc[x, target_negative]))\n",
    "\"\"\""
   ]
  },
  {
   "cell_type": "code",
   "execution_count": 66,
   "metadata": {},
   "outputs": [
    {
     "data": {
      "text/plain": [
       "<AxesSubplot: xlabel='previous'>"
      ]
     },
     "execution_count": 66,
     "metadata": {},
     "output_type": "execute_result"
    },
    {
     "data": {
      "image/png": "[encoded data removed]",
      "text/plain": [
       "<Figure size 640x480 with 1 Axes>"
      ]
     },
     "metadata": {},
     "output_type": "display_data"
    }
   ],
   "source": [
    "# boxplot of to detect outlier values (excluding value 0)\n",
    "sns.boxplot(data=df[df['previous'] > 0], x='previous')"
   ]
  },
  {
   "attachments": {},
   "cell_type": "markdown",
   "metadata": {},
   "source": [
    "So each value except 1 can be treated as outlier.  \n",
    "Let's find out if we can use WOE approach here ((1) each category contains >5% of sample size and (2) each category contains positive and negative target values)"
   ]
  },
  {
   "cell_type": "code",
   "execution_count": 67,
   "metadata": {},
   "outputs": [
    {
     "name": "stdout",
     "output_type": "stream",
     "text": [
      "Total num of records: 28831, category threshold size: 1442.0\n",
      "With `0` value excluded - total: 3993 , threshold size: 200.0\n"
     ]
    },
    {
     "data": {
      "text/html": [
       "<div>\n",
       "<style scoped>\n",
       "    .dataframe tbody tr th:only-of-type {\n",
       "        vertical-align: middle;\n",
       "    }\n",
       "\n",
       "    .dataframe tbody tr th {\n",
       "        vertical-align: top;\n",
       "    }\n",
       "\n",
       "    .dataframe thead tr th {\n",
       "        text-align: left;\n",
       "    }\n",
       "\n",
       "    .dataframe thead tr:last-of-type th {\n",
       "        text-align: right;\n",
       "    }\n",
       "</style>\n",
       "<table border=\"1\" class=\"dataframe\">\n",
       "  <thead>\n",
       "    <tr>\n",
       "      <th></th>\n",
       "      <th>previous</th>\n",
       "      <th colspan=\"2\" halign=\"left\">y</th>\n",
       "    </tr>\n",
       "    <tr>\n",
       "      <th></th>\n",
       "      <th>count</th>\n",
       "      <th>sum</th>\n",
       "      <th>mean</th>\n",
       "    </tr>\n",
       "    <tr>\n",
       "      <th>previous</th>\n",
       "      <th></th>\n",
       "      <th></th>\n",
       "      <th></th>\n",
       "    </tr>\n",
       "  </thead>\n",
       "  <tbody>\n",
       "    <tr>\n",
       "      <th>0</th>\n",
       "      <td>24838</td>\n",
       "      <td>2181</td>\n",
       "      <td>0.087809</td>\n",
       "    </tr>\n",
       "    <tr>\n",
       "      <th>1</th>\n",
       "      <td>3234</td>\n",
       "      <td>691</td>\n",
       "      <td>0.213667</td>\n",
       "    </tr>\n",
       "    <tr>\n",
       "      <th>2</th>\n",
       "      <td>534</td>\n",
       "      <td>246</td>\n",
       "      <td>0.460674</td>\n",
       "    </tr>\n",
       "    <tr>\n",
       "      <th>3</th>\n",
       "      <td>151</td>\n",
       "      <td>89</td>\n",
       "      <td>0.589404</td>\n",
       "    </tr>\n",
       "    <tr>\n",
       "      <th>4</th>\n",
       "      <td>56</td>\n",
       "      <td>30</td>\n",
       "      <td>0.535714</td>\n",
       "    </tr>\n",
       "    <tr>\n",
       "      <th>5</th>\n",
       "      <td>12</td>\n",
       "      <td>8</td>\n",
       "      <td>0.666667</td>\n",
       "    </tr>\n",
       "    <tr>\n",
       "      <th>6</th>\n",
       "      <td>5</td>\n",
       "      <td>3</td>\n",
       "      <td>0.600000</td>\n",
       "    </tr>\n",
       "    <tr>\n",
       "      <th>7</th>\n",
       "      <td>1</td>\n",
       "      <td>0</td>\n",
       "      <td>0.000000</td>\n",
       "    </tr>\n",
       "  </tbody>\n",
       "</table>\n",
       "</div>"
      ],
      "text/plain": [
       "         previous     y          \n",
       "            count   sum      mean\n",
       "previous                         \n",
       "0           24838  2181  0.087809\n",
       "1            3234   691  0.213667\n",
       "2             534   246  0.460674\n",
       "3             151    89  0.589404\n",
       "4              56    30  0.535714\n",
       "5              12     8  0.666667\n",
       "6               5     3  0.600000\n",
       "7               1     0  0.000000"
      ]
     },
     "execution_count": 67,
     "metadata": {},
     "output_type": "execute_result"
    }
   ],
   "source": [
    "print('Total num of records: {}, category threshold size: {}'.format(len(df), np.ceil(0.05 * len(df))))\n",
    "print('With `0` value excluded - total: {} , threshold size: {}'.format(len(df[df['previous'] > 0]), np.ceil(0.05*len(df[df['previous'] > 0]))))\n",
    "df.groupby(by='previous')[['previous', 'y']].agg({'previous': ['count'], 'y': ['sum', 'mean']})"
   ]
  },
  {
   "cell_type": "code",
   "execution_count": 68,
   "metadata": {},
   "outputs": [
    {
     "name": "stdout",
     "output_type": "stream",
     "text": [
      "Calculating prediction strength of features:\n",
      "Feature \tIV\n",
      "--------------------\n",
      "previous \t0.3417 (strong)\n"
     ]
    },
    {
     "data": {
      "text/html": [
       "<div>\n",
       "<style scoped>\n",
       "    .dataframe tbody tr th:only-of-type {\n",
       "        vertical-align: middle;\n",
       "    }\n",
       "\n",
       "    .dataframe tbody tr th {\n",
       "        vertical-align: top;\n",
       "    }\n",
       "\n",
       "    .dataframe thead th {\n",
       "        text-align: right;\n",
       "    }\n",
       "</style>\n",
       "<table border=\"1\" class=\"dataframe\">\n",
       "  <thead>\n",
       "    <tr style=\"text-align: right;\">\n",
       "      <th></th>\n",
       "      <th>num_events</th>\n",
       "      <th>num_nonevents</th>\n",
       "      <th>num_cat_total</th>\n",
       "      <th>events_share</th>\n",
       "      <th>nonevents_share</th>\n",
       "      <th>woe</th>\n",
       "      <th>iv</th>\n",
       "    </tr>\n",
       "    <tr>\n",
       "      <th>feature</th>\n",
       "      <th></th>\n",
       "      <th></th>\n",
       "      <th></th>\n",
       "      <th></th>\n",
       "      <th></th>\n",
       "      <th></th>\n",
       "      <th></th>\n",
       "    </tr>\n",
       "  </thead>\n",
       "  <tbody>\n",
       "    <tr>\n",
       "      <th>0</th>\n",
       "      <td>2181</td>\n",
       "      <td>22657</td>\n",
       "      <td>24838</td>\n",
       "      <td>0.671490</td>\n",
       "      <td>0.885627</td>\n",
       "      <td>-0.276437</td>\n",
       "      <td>0.059195</td>\n",
       "    </tr>\n",
       "    <tr>\n",
       "      <th>1</th>\n",
       "      <td>691</td>\n",
       "      <td>2543</td>\n",
       "      <td>3234</td>\n",
       "      <td>0.212746</td>\n",
       "      <td>0.099402</td>\n",
       "      <td>0.755608</td>\n",
       "      <td>0.085644</td>\n",
       "    </tr>\n",
       "    <tr>\n",
       "      <th>2</th>\n",
       "      <td>246</td>\n",
       "      <td>288</td>\n",
       "      <td>534</td>\n",
       "      <td>0.075739</td>\n",
       "      <td>0.011257</td>\n",
       "      <td>1.834273</td>\n",
       "      <td>0.118277</td>\n",
       "    </tr>\n",
       "    <tr>\n",
       "      <th>3</th>\n",
       "      <td>130</td>\n",
       "      <td>95</td>\n",
       "      <td>225</td>\n",
       "      <td>0.040025</td>\n",
       "      <td>0.003713</td>\n",
       "      <td>2.163762</td>\n",
       "      <td>0.078569</td>\n",
       "    </tr>\n",
       "  </tbody>\n",
       "</table>\n",
       "</div>"
      ],
      "text/plain": [
       "         num_events  num_nonevents  num_cat_total  events_share  \\\n",
       "feature                                                           \n",
       "0              2181          22657          24838      0.671490   \n",
       "1               691           2543           3234      0.212746   \n",
       "2               246            288            534      0.075739   \n",
       "3               130             95            225      0.040025   \n",
       "\n",
       "         nonevents_share       woe        iv  \n",
       "feature                                       \n",
       "0               0.885627 -0.276437  0.059195  \n",
       "1               0.099402  0.755608  0.085644  \n",
       "2               0.011257  1.834273  0.118277  \n",
       "3               0.003713  2.163762  0.078569  "
      ]
     },
     "execution_count": 68,
     "metadata": {},
     "output_type": "execute_result"
    }
   ],
   "source": [
    "# assuming cutoff value 3 which will provide category threshold size > 200 after cutoff\n",
    "# check predictive power for cutted-off feature based on WOE/IV\n",
    "feature = 'previous'\n",
    "print('Calculating prediction strength of features:')\n",
    "print('Feature \\tIV')\n",
    "print('-'*20)\n",
    "woe, iv = get_woe_cat(df[feature].apply(lambda x: np.min([x, 3])), df['y'], return_details=True)\n",
    "print('{} \\t{:.4f} ({})'.format(feature, iv, interpret_iv(iv)))\n",
    "woe"
   ]
  },
  {
   "cell_type": "code",
   "execution_count": 69,
   "metadata": {},
   "outputs": [
    {
     "data": {
      "image/png": "[encoded data removed]",
      "text/plain": [
       "<Figure size 500x400 with 1 Axes>"
      ]
     },
     "metadata": {},
     "output_type": "display_data"
    }
   ],
   "source": [
    "# check monotonity\n",
    "fig, ax = plt.subplots(1, 1, figsize=(5, 4))\n",
    "ax.scatter(x=range(len(woe)), y=woe['woe'])\n",
    "ax.set_xticks(range(len(woe)))\n",
    "ax.set_xticklabels([str(x) for x in woe.index]);"
   ]
  },
  {
   "cell_type": "code",
   "execution_count": 70,
   "metadata": {},
   "outputs": [
    {
     "data": {
      "text/plain": [
       "72       5\n",
       "605      4\n",
       "686      4\n",
       "1220     5\n",
       "1376     4\n",
       "        ..\n",
       "26896    4\n",
       "27035    5\n",
       "27397    4\n",
       "28124    4\n",
       "28508    4\n",
       "Name: previous, Length: 74, dtype: int64"
      ]
     },
     "execution_count": 70,
     "metadata": {},
     "output_type": "execute_result"
    }
   ],
   "source": [
    "m = df['previous'] > 3\n",
    "df.loc[m, 'previous']"
   ]
  },
  {
   "cell_type": "code",
   "execution_count": 71,
   "metadata": {},
   "outputs": [
    {
     "data": {
      "text/plain": [
       "72       3\n",
       "605      3\n",
       "686      3\n",
       "1220     3\n",
       "1376     3\n",
       "        ..\n",
       "26896    3\n",
       "27035    3\n",
       "27397    3\n",
       "28124    3\n",
       "28508    3\n",
       "Name: previous, Length: 74, dtype: int32"
      ]
     },
     "execution_count": 71,
     "metadata": {},
     "output_type": "execute_result"
    }
   ],
   "source": [
    "# performing real cutoff\n",
    "df['previous'] = df['previous'].apply(lambda x: np.min([x, 3]))\n",
    "df.loc[m, 'previous']"
   ]
  },
  {
   "attachments": {},
   "cell_type": "markdown",
   "metadata": {},
   "source": [
    "[PIPELINE] We can test the same transformation type for `previous` feature as for `pdays`: leave out 0 value and encode groups '1', '2' and '>=3'"
   ]
  },
  {
   "attachments": {},
   "cell_type": "markdown",
   "metadata": {},
   "source": [
    "#### 9.3. Exploring `poutcome` feature"
   ]
  },
  {
   "cell_type": "code",
   "execution_count": 72,
   "metadata": {},
   "outputs": [
    {
     "data": {
      "text/plain": [
       "nonexistent    24838\n",
       "failure         3003\n",
       "success          990\n",
       "Name: poutcome, dtype: int64"
      ]
     },
     "execution_count": 72,
     "metadata": {},
     "output_type": "execute_result"
    }
   ],
   "source": [
    "df['poutcome'].value_counts()"
   ]
  },
  {
   "cell_type": "code",
   "execution_count": 73,
   "metadata": {},
   "outputs": [
    {
     "name": "stdout",
     "output_type": "stream",
     "text": [
      "Information Value: 0.5355 (suspicious)\n"
     ]
    },
    {
     "data": {
      "text/plain": [
       "feature\n",
       "failure        0.280533\n",
       "nonexistent   -0.276437\n",
       "success        2.576719\n",
       "Name: woe, dtype: float64"
      ]
     },
     "execution_count": 73,
     "metadata": {},
     "output_type": "execute_result"
    }
   ],
   "source": [
    "# check predictive power\n",
    "feature = 'poutcome'\n",
    "woe, iv = get_woe_cat(df[feature], df['y'])\n",
    "print('Information Value: {:.4f} ({})'.format(iv, interpret_iv(iv)))\n",
    "woe"
   ]
  },
  {
   "cell_type": "code",
   "execution_count": 74,
   "metadata": {},
   "outputs": [
    {
     "name": "stdout",
     "output_type": "stream",
     "text": [
      "yes/no ratio for `poutcome` values\n",
      "failure: 0.168\n",
      "nonexistent: 0.096\n",
      "success: 1.781\n"
     ]
    },
    {
     "data": {
      "image/png": "[encoded data removed]",
      "text/plain": [
       "<Figure size 500x400 with 1 Axes>"
      ]
     },
     "metadata": {},
     "output_type": "display_data"
    }
   ],
   "source": [
    "ct = pd.crosstab(df['poutcome'], df['y'])\n",
    "\n",
    "fig, ax = plt.subplots(1, 1, figsize=(5, 4))\n",
    "ax.bar(x=[x+0.1 for x in range(len(ct.index))], height=ct[target_positive], width=0.7, label='yes')\n",
    "ax.bar(x=[x-0.1 for x in range(len(ct.index))], height=ct[target_negative], width=0.7, alpha=0.7, label='no')\n",
    "ax.set_xticks(range(len(ct)))\n",
    "ax.set_xticklabels(ct.index)\n",
    "ax.legend();\n",
    "print('yes/no ratio for `poutcome` values')\n",
    "for x in ct.index:\n",
    "    print('{}: {:.3f}'.format(x, ct.loc[x, target_positive]/ct.loc[x, target_negative]))"
   ]
  },
  {
   "cell_type": "code",
   "execution_count": 75,
   "metadata": {},
   "outputs": [
    {
     "data": {
      "text/html": [
       "<div>\n",
       "<style scoped>\n",
       "    .dataframe tbody tr th:only-of-type {\n",
       "        vertical-align: middle;\n",
       "    }\n",
       "\n",
       "    .dataframe tbody tr th {\n",
       "        vertical-align: top;\n",
       "    }\n",
       "\n",
       "    .dataframe thead th {\n",
       "        text-align: right;\n",
       "    }\n",
       "</style>\n",
       "<table border=\"1\" class=\"dataframe\">\n",
       "  <thead>\n",
       "    <tr style=\"text-align: right;\">\n",
       "      <th>previous</th>\n",
       "      <th>0</th>\n",
       "      <th>1</th>\n",
       "      <th>2</th>\n",
       "      <th>3</th>\n",
       "    </tr>\n",
       "    <tr>\n",
       "      <th>poutcome</th>\n",
       "      <th></th>\n",
       "      <th></th>\n",
       "      <th></th>\n",
       "      <th></th>\n",
       "    </tr>\n",
       "  </thead>\n",
       "  <tbody>\n",
       "    <tr>\n",
       "      <th>failure</th>\n",
       "      <td>0</td>\n",
       "      <td>2610</td>\n",
       "      <td>310</td>\n",
       "      <td>83</td>\n",
       "    </tr>\n",
       "    <tr>\n",
       "      <th>nonexistent</th>\n",
       "      <td>24838</td>\n",
       "      <td>0</td>\n",
       "      <td>0</td>\n",
       "      <td>0</td>\n",
       "    </tr>\n",
       "    <tr>\n",
       "      <th>success</th>\n",
       "      <td>0</td>\n",
       "      <td>624</td>\n",
       "      <td>224</td>\n",
       "      <td>142</td>\n",
       "    </tr>\n",
       "  </tbody>\n",
       "</table>\n",
       "</div>"
      ],
      "text/plain": [
       "previous         0     1    2    3\n",
       "poutcome                          \n",
       "failure          0  2610  310   83\n",
       "nonexistent  24838     0    0    0\n",
       "success          0   624  224  142"
      ]
     },
     "execution_count": 75,
     "metadata": {},
     "output_type": "execute_result"
    }
   ],
   "source": [
    "prev_campaign_ratio = pd.crosstab(df['poutcome'], df['previous'])\n",
    "prev_campaign_ratio"
   ]
  },
  {
   "attachments": {},
   "cell_type": "markdown",
   "metadata": {},
   "source": [
    "Comparing if previous campaign effectiveness is similar with last campaign depending on `previous` feature value"
   ]
  },
  {
   "cell_type": "code",
   "execution_count": 76,
   "metadata": {},
   "outputs": [
    {
     "name": "stdout",
     "output_type": "stream",
     "text": [
      "Campaigns effectiveness comparing (success/failure ratio):\n",
      "Num \tPrev \tLast\n",
      "1 \t0.24 \t0.27\n",
      "2 \t0.72 \t0.85\n",
      "3 \t1.71 \t1.37\n"
     ]
    }
   ],
   "source": [
    "print('Campaigns effectiveness comparing (success/failure ratio):')\n",
    "print('Num \\tPrev \\tLast')\n",
    "for i in range(1, len(prev_campaign_ratio.columns)):\n",
    "    prev_ratio = (prev_campaign_ratio.loc['success', i]) / (prev_campaign_ratio.loc['failure', i])\n",
    "    last_ratio = len(df[(df['y'] == target_positive) & (df['previous'] == i)]) / len(df[(df['y'] == target_negative) & (df['previous'] == i)])\n",
    "    print('{} \\t{:.2f} \\t{:.2f}'.format(i, prev_ratio, last_ratio))"
   ]
  },
  {
   "attachments": {},
   "cell_type": "markdown",
   "metadata": {},
   "source": [
    "Success rate for the previous campaign is similar to last campaign => poutcome might be a good predictor for values  \n",
    "[PIPELINE]  \n",
    "Replace values by WoE estimates"
   ]
  },
  {
   "attachments": {},
   "cell_type": "markdown",
   "metadata": {},
   "source": [
    "[NOTE] THINK ABOUT ENCODING: test similar to WoE values to predict. 'nonexistent' value can be equivalent to success / failure ratio of the previous marketing campaign = 1 (50/50, unknown), <1 = more failure, >1 = more success  "
   ]
  },
  {
   "attachments": {},
   "cell_type": "markdown",
   "metadata": {},
   "source": [
    "### 10. Drop `duration` feature"
   ]
  },
  {
   "cell_type": "code",
   "execution_count": 77,
   "metadata": {},
   "outputs": [],
   "source": [
    "df = df.drop(columns='duration')"
   ]
  },
  {
   "attachments": {},
   "cell_type": "markdown",
   "metadata": {},
   "source": [
    "## Final look of the dataset"
   ]
  },
  {
   "cell_type": "code",
   "execution_count": 78,
   "metadata": {},
   "outputs": [
    {
     "name": "stdout",
     "output_type": "stream",
     "text": [
      "Calculating real NaNs ratio using `unknown` and `999` keyvalues:\n",
      "Column (value) \tNvalues \tRatio\n",
      "----------------------------------------\n"
     ]
    }
   ],
   "source": [
    "# check if missing-like values remained\n",
    "print(f'Calculating real NaNs ratio using `{cat_nan_equiv}` and `{num_nan_equiv}` keyvalues:')\n",
    "print('Column (value) \\tNvalues \\tRatio')\n",
    "print('-'*40)\n",
    "for col in df.columns:\n",
    "    if df[col].dtype == 'object':\n",
    "        nan_equiv = cat_nan_equiv\n",
    "    else:\n",
    "        nan_equiv = num_nan_equiv\n",
    "    if nan_equiv in list(df[col]):\n",
    "        freq_table = df[col].value_counts()\n",
    "        print('{} (`{}`) \\t{} \\t{:.1f}%'.format(col, nan_equiv, freq_table[nan_equiv], 100 * freq_table[nan_equiv] / len(df)))"
   ]
  },
  {
   "cell_type": "code",
   "execution_count": 79,
   "metadata": {},
   "outputs": [
    {
     "data": {
      "text/html": [
       "<div>\n",
       "<style scoped>\n",
       "    .dataframe tbody tr th:only-of-type {\n",
       "        vertical-align: middle;\n",
       "    }\n",
       "\n",
       "    .dataframe tbody tr th {\n",
       "        vertical-align: top;\n",
       "    }\n",
       "\n",
       "    .dataframe thead th {\n",
       "        text-align: right;\n",
       "    }\n",
       "</style>\n",
       "<table border=\"1\" class=\"dataframe\">\n",
       "  <thead>\n",
       "    <tr style=\"text-align: right;\">\n",
       "      <th></th>\n",
       "      <th>age</th>\n",
       "      <th>job</th>\n",
       "      <th>marital</th>\n",
       "      <th>education</th>\n",
       "      <th>default</th>\n",
       "      <th>housing</th>\n",
       "      <th>loan</th>\n",
       "      <th>contact</th>\n",
       "      <th>month</th>\n",
       "      <th>day_of_week</th>\n",
       "      <th>...</th>\n",
       "      <th>previous</th>\n",
       "      <th>poutcome</th>\n",
       "      <th>emp.var.rate</th>\n",
       "      <th>cons.price.idx</th>\n",
       "      <th>cons.conf.idx</th>\n",
       "      <th>euribor3m</th>\n",
       "      <th>nr.employed</th>\n",
       "      <th>y</th>\n",
       "      <th>education_ordered</th>\n",
       "      <th>age_bins</th>\n",
       "    </tr>\n",
       "  </thead>\n",
       "  <tbody>\n",
       "    <tr>\n",
       "      <th>16272</th>\n",
       "      <td>35</td>\n",
       "      <td>blue-collar</td>\n",
       "      <td>married</td>\n",
       "      <td>basic.9y</td>\n",
       "      <td>-0.819063</td>\n",
       "      <td>yes</td>\n",
       "      <td>no</td>\n",
       "      <td>0.0</td>\n",
       "      <td>jun</td>\n",
       "      <td>fri</td>\n",
       "      <td>...</td>\n",
       "      <td>0</td>\n",
       "      <td>nonexistent</td>\n",
       "      <td>1.4</td>\n",
       "      <td>94.465</td>\n",
       "      <td>-41.8</td>\n",
       "      <td>4.959</td>\n",
       "      <td>5228.1</td>\n",
       "      <td>0</td>\n",
       "      <td>basic.9y</td>\n",
       "      <td>(33.2, 41.3]</td>\n",
       "    </tr>\n",
       "    <tr>\n",
       "      <th>24221</th>\n",
       "      <td>37</td>\n",
       "      <td>technician</td>\n",
       "      <td>married</td>\n",
       "      <td>professional.course</td>\n",
       "      <td>0.150267</td>\n",
       "      <td>yes</td>\n",
       "      <td>no</td>\n",
       "      <td>0.0</td>\n",
       "      <td>may</td>\n",
       "      <td>wed</td>\n",
       "      <td>...</td>\n",
       "      <td>0</td>\n",
       "      <td>nonexistent</td>\n",
       "      <td>1.1</td>\n",
       "      <td>93.994</td>\n",
       "      <td>-36.4</td>\n",
       "      <td>4.856</td>\n",
       "      <td>5191.0</td>\n",
       "      <td>0</td>\n",
       "      <td>professional.course</td>\n",
       "      <td>(33.2, 41.3]</td>\n",
       "    </tr>\n",
       "    <tr>\n",
       "      <th>15656</th>\n",
       "      <td>31</td>\n",
       "      <td>admin.</td>\n",
       "      <td>married</td>\n",
       "      <td>university.degree</td>\n",
       "      <td>0.150267</td>\n",
       "      <td>yes</td>\n",
       "      <td>no</td>\n",
       "      <td>1.0</td>\n",
       "      <td>aug</td>\n",
       "      <td>thu</td>\n",
       "      <td>...</td>\n",
       "      <td>0</td>\n",
       "      <td>nonexistent</td>\n",
       "      <td>1.4</td>\n",
       "      <td>93.444</td>\n",
       "      <td>-36.1</td>\n",
       "      <td>4.962</td>\n",
       "      <td>5228.1</td>\n",
       "      <td>0</td>\n",
       "      <td>university.degree</td>\n",
       "      <td>(25.1, 33.2]</td>\n",
       "    </tr>\n",
       "    <tr>\n",
       "      <th>3676</th>\n",
       "      <td>35</td>\n",
       "      <td>admin.</td>\n",
       "      <td>married</td>\n",
       "      <td>university.degree</td>\n",
       "      <td>0.150267</td>\n",
       "      <td>yes</td>\n",
       "      <td>no</td>\n",
       "      <td>0.0</td>\n",
       "      <td>may</td>\n",
       "      <td>tue</td>\n",
       "      <td>...</td>\n",
       "      <td>0</td>\n",
       "      <td>nonexistent</td>\n",
       "      <td>1.1</td>\n",
       "      <td>93.994</td>\n",
       "      <td>-36.4</td>\n",
       "      <td>4.857</td>\n",
       "      <td>5191.0</td>\n",
       "      <td>0</td>\n",
       "      <td>university.degree</td>\n",
       "      <td>(33.2, 41.3]</td>\n",
       "    </tr>\n",
       "    <tr>\n",
       "      <th>16969</th>\n",
       "      <td>39</td>\n",
       "      <td>services</td>\n",
       "      <td>married</td>\n",
       "      <td>high.school</td>\n",
       "      <td>0.150267</td>\n",
       "      <td>no</td>\n",
       "      <td>no</td>\n",
       "      <td>0.0</td>\n",
       "      <td>jun</td>\n",
       "      <td>tue</td>\n",
       "      <td>...</td>\n",
       "      <td>0</td>\n",
       "      <td>nonexistent</td>\n",
       "      <td>1.4</td>\n",
       "      <td>94.465</td>\n",
       "      <td>-41.8</td>\n",
       "      <td>4.961</td>\n",
       "      <td>5228.1</td>\n",
       "      <td>0</td>\n",
       "      <td>high.school</td>\n",
       "      <td>(33.2, 41.3]</td>\n",
       "    </tr>\n",
       "    <tr>\n",
       "      <th>5156</th>\n",
       "      <td>32</td>\n",
       "      <td>admin.</td>\n",
       "      <td>single</td>\n",
       "      <td>university.degree</td>\n",
       "      <td>0.150267</td>\n",
       "      <td>yes</td>\n",
       "      <td>no</td>\n",
       "      <td>1.0</td>\n",
       "      <td>aug</td>\n",
       "      <td>tue</td>\n",
       "      <td>...</td>\n",
       "      <td>0</td>\n",
       "      <td>nonexistent</td>\n",
       "      <td>1.4</td>\n",
       "      <td>93.444</td>\n",
       "      <td>-36.1</td>\n",
       "      <td>4.968</td>\n",
       "      <td>5228.1</td>\n",
       "      <td>1</td>\n",
       "      <td>university.degree</td>\n",
       "      <td>(25.1, 33.2]</td>\n",
       "    </tr>\n",
       "    <tr>\n",
       "      <th>4506</th>\n",
       "      <td>21</td>\n",
       "      <td>admin.</td>\n",
       "      <td>single</td>\n",
       "      <td>basic.9y</td>\n",
       "      <td>0.150267</td>\n",
       "      <td>yes</td>\n",
       "      <td>yes</td>\n",
       "      <td>0.0</td>\n",
       "      <td>may</td>\n",
       "      <td>tue</td>\n",
       "      <td>...</td>\n",
       "      <td>0</td>\n",
       "      <td>nonexistent</td>\n",
       "      <td>1.1</td>\n",
       "      <td>93.994</td>\n",
       "      <td>-36.4</td>\n",
       "      <td>4.856</td>\n",
       "      <td>5191.0</td>\n",
       "      <td>0</td>\n",
       "      <td>basic.9y</td>\n",
       "      <td>(16.919, 25.1]</td>\n",
       "    </tr>\n",
       "    <tr>\n",
       "      <th>16990</th>\n",
       "      <td>39</td>\n",
       "      <td>blue-collar</td>\n",
       "      <td>married</td>\n",
       "      <td>basic.9y</td>\n",
       "      <td>0.150267</td>\n",
       "      <td>no</td>\n",
       "      <td>yes</td>\n",
       "      <td>0.0</td>\n",
       "      <td>may</td>\n",
       "      <td>tue</td>\n",
       "      <td>...</td>\n",
       "      <td>0</td>\n",
       "      <td>nonexistent</td>\n",
       "      <td>1.1</td>\n",
       "      <td>93.994</td>\n",
       "      <td>-36.4</td>\n",
       "      <td>4.857</td>\n",
       "      <td>5191.0</td>\n",
       "      <td>0</td>\n",
       "      <td>basic.9y</td>\n",
       "      <td>(33.2, 41.3]</td>\n",
       "    </tr>\n",
       "    <tr>\n",
       "      <th>6458</th>\n",
       "      <td>41</td>\n",
       "      <td>management</td>\n",
       "      <td>married</td>\n",
       "      <td>basic.6y</td>\n",
       "      <td>0.150267</td>\n",
       "      <td>no</td>\n",
       "      <td>no</td>\n",
       "      <td>1.0</td>\n",
       "      <td>apr</td>\n",
       "      <td>thu</td>\n",
       "      <td>...</td>\n",
       "      <td>0</td>\n",
       "      <td>nonexistent</td>\n",
       "      <td>-1.8</td>\n",
       "      <td>93.075</td>\n",
       "      <td>-47.1</td>\n",
       "      <td>1.365</td>\n",
       "      <td>5099.1</td>\n",
       "      <td>1</td>\n",
       "      <td>basic.6y</td>\n",
       "      <td>(33.2, 41.3]</td>\n",
       "    </tr>\n",
       "    <tr>\n",
       "      <th>28627</th>\n",
       "      <td>30</td>\n",
       "      <td>admin.</td>\n",
       "      <td>married</td>\n",
       "      <td>high.school</td>\n",
       "      <td>-0.819063</td>\n",
       "      <td>yes</td>\n",
       "      <td>no</td>\n",
       "      <td>1.0</td>\n",
       "      <td>aug</td>\n",
       "      <td>wed</td>\n",
       "      <td>...</td>\n",
       "      <td>0</td>\n",
       "      <td>nonexistent</td>\n",
       "      <td>1.4</td>\n",
       "      <td>93.444</td>\n",
       "      <td>-36.1</td>\n",
       "      <td>4.965</td>\n",
       "      <td>5228.1</td>\n",
       "      <td>0</td>\n",
       "      <td>high.school</td>\n",
       "      <td>(25.1, 33.2]</td>\n",
       "    </tr>\n",
       "  </tbody>\n",
       "</table>\n",
       "<p>10 rows × 22 columns</p>\n",
       "</div>"
      ],
      "text/plain": [
       "       age          job  marital            education   default housing loan  \\\n",
       "16272   35  blue-collar  married             basic.9y -0.819063     yes   no   \n",
       "24221   37   technician  married  professional.course  0.150267     yes   no   \n",
       "15656   31       admin.  married    university.degree  0.150267     yes   no   \n",
       "3676    35       admin.  married    university.degree  0.150267     yes   no   \n",
       "16969   39     services  married          high.school  0.150267      no   no   \n",
       "5156    32       admin.   single    university.degree  0.150267     yes   no   \n",
       "4506    21       admin.   single             basic.9y  0.150267     yes  yes   \n",
       "16990   39  blue-collar  married             basic.9y  0.150267      no  yes   \n",
       "6458    41   management  married             basic.6y  0.150267      no   no   \n",
       "28627   30       admin.  married          high.school -0.819063     yes   no   \n",
       "\n",
       "       contact month day_of_week  ...  previous     poutcome  emp.var.rate  \\\n",
       "16272      0.0   jun         fri  ...         0  nonexistent           1.4   \n",
       "24221      0.0   may         wed  ...         0  nonexistent           1.1   \n",
       "15656      1.0   aug         thu  ...         0  nonexistent           1.4   \n",
       "3676       0.0   may         tue  ...         0  nonexistent           1.1   \n",
       "16969      0.0   jun         tue  ...         0  nonexistent           1.4   \n",
       "5156       1.0   aug         tue  ...         0  nonexistent           1.4   \n",
       "4506       0.0   may         tue  ...         0  nonexistent           1.1   \n",
       "16990      0.0   may         tue  ...         0  nonexistent           1.1   \n",
       "6458       1.0   apr         thu  ...         0  nonexistent          -1.8   \n",
       "28627      1.0   aug         wed  ...         0  nonexistent           1.4   \n",
       "\n",
       "      cons.price.idx  cons.conf.idx  euribor3m  nr.employed  y  \\\n",
       "16272         94.465          -41.8      4.959       5228.1  0   \n",
       "24221         93.994          -36.4      4.856       5191.0  0   \n",
       "15656         93.444          -36.1      4.962       5228.1  0   \n",
       "3676          93.994          -36.4      4.857       5191.0  0   \n",
       "16969         94.465          -41.8      4.961       5228.1  0   \n",
       "5156          93.444          -36.1      4.968       5228.1  1   \n",
       "4506          93.994          -36.4      4.856       5191.0  0   \n",
       "16990         93.994          -36.4      4.857       5191.0  0   \n",
       "6458          93.075          -47.1      1.365       5099.1  1   \n",
       "28627         93.444          -36.1      4.965       5228.1  0   \n",
       "\n",
       "         education_ordered        age_bins  \n",
       "16272             basic.9y    (33.2, 41.3]  \n",
       "24221  professional.course    (33.2, 41.3]  \n",
       "15656    university.degree    (25.1, 33.2]  \n",
       "3676     university.degree    (33.2, 41.3]  \n",
       "16969          high.school    (33.2, 41.3]  \n",
       "5156     university.degree    (25.1, 33.2]  \n",
       "4506              basic.9y  (16.919, 25.1]  \n",
       "16990             basic.9y    (33.2, 41.3]  \n",
       "6458              basic.6y    (33.2, 41.3]  \n",
       "28627          high.school    (25.1, 33.2]  \n",
       "\n",
       "[10 rows x 22 columns]"
      ]
     },
     "execution_count": 79,
     "metadata": {},
     "output_type": "execute_result"
    }
   ],
   "source": [
    "df.sample(10)"
   ]
  },
  {
   "cell_type": "code",
   "execution_count": 80,
   "metadata": {},
   "outputs": [
    {
     "data": {
      "text/plain": [
       "(28831, 22)"
      ]
     },
     "execution_count": 80,
     "metadata": {},
     "output_type": "execute_result"
    }
   ],
   "source": [
    "df.shape"
   ]
  },
  {
   "cell_type": "code",
   "execution_count": null,
   "metadata": {},
   "outputs": [],
   "source": []
  }
 ],
 "metadata": {
  "kernelspec": {
   "display_name": "dsml",
   "language": "python",
   "name": "python3"
  },
  "language_info": {
   "codemirror_mode": {
    "name": "ipython",
    "version": 3
   },
   "file_extension": ".py",
   "mimetype": "text/x-python",
   "name": "python",
   "nbconvert_exporter": "python",
   "pygments_lexer": "ipython3",
   "version": "3.10.8"
  },
  "orig_nbformat": 4,
  "vscode": {
   "interpreter": {
    "hash": "e1f381e82303d84d9328d36fb70b76a5df1bb1dfb90f8f346f754b4310717ab0"
   }
  }
 },
 "nbformat": 4,
 "nbformat_minor": 2
}
